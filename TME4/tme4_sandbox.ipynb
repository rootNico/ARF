{
 "cells": [
  {
   "cell_type": "code",
   "execution_count": null,
   "metadata": {},
   "outputs": [],
   "source": [
    "import numpy as np\n",
    "import matplotlib.pyplot as plt\n",
    "from tme4_etu import *\n",
    "from arftools import *\n",
    "from cross_validation import validation_croisee\n",
    "%load_ext autoreload\n",
    "%autoreload 2"
   ]
  },
  {
   "cell_type": "code",
   "execution_count": null,
   "metadata": {},
   "outputs": [],
   "source": [
    "fn = 'USPS/USPS_train.txt'\n",
    "datax,datay = load_usps(fn)"
   ]
  },
  {
   "cell_type": "code",
   "execution_count": null,
   "metadata": {},
   "outputs": [],
   "source": [
    "show_usps(datax[6])"
   ]
  },
  {
   "cell_type": "code",
   "execution_count": null,
   "metadata": {},
   "outputs": [],
   "source": [
    "grid,x1list,x2list=make_grid(xmin=-4,xmax=4,ymin=-4,ymax=4)\n",
    "grid.shape"
   ]
  },
  {
   "cell_type": "code",
   "execution_count": null,
   "metadata": {},
   "outputs": [],
   "source": [
    "N = 1000\n",
    "data_2d = datax[0:N, 110:112]\n",
    "plot_error(data_2d, datay[0:N], mse)\n",
    "#plot_error(data_2d, datay[0:N], mse_g)"
   ]
  },
  {
   "cell_type": "code",
   "execution_count": null,
   "metadata": {},
   "outputs": [],
   "source": [
    "N = 1000\n",
    "data_2d = datax[0:N, 110:112]\n",
    "plot_error(data_2d, datay[0:N], hinge)\n",
    "#plot_error(data_2d, datay[0:N], hinge_g)"
   ]
  },
  {
   "cell_type": "code",
   "execution_count": null,
   "metadata": {},
   "outputs": [],
   "source": [
    "X,Y = gen_arti(epsilon=1)\n",
    " # change à binaire\n",
    "lin = Lineaire()\n",
    "lin.fit(X,Y)\n",
    "print(lin.score(X,Y))\n",
    "# on a triché quand on a utilisé les donnees d'aprentissage à tester\n",
    "X.shape"
   ]
  },
  {
   "cell_type": "code",
   "execution_count": null,
   "metadata": {},
   "outputs": [],
   "source": [
    "from utils import minibatch_indexes\n",
    "batches = minibatch_indexes(1000, 32, shuffle=True)\n",
    "batches.shape"
   ]
  },
  {
   "cell_type": "markdown",
   "metadata": {},
   "source": [
    "### Visualisation de W"
   ]
  },
  {
   "cell_type": "code",
   "execution_count": null,
   "metadata": {},
   "outputs": [],
   "source": [
    "from utils import filter_values, one_againt_others, minibatch_indexes\n",
    "%load_ext autoreload\n",
    "%autoreload 2"
   ]
  },
  {
   "cell_type": "code",
   "execution_count": null,
   "metadata": {},
   "outputs": [],
   "source": [
    "fn = 'USPS/USPS_train.txt'\n",
    "datax,datay = load_usps(fn)"
   ]
  },
  {
   "cell_type": "code",
   "execution_count": null,
   "metadata": {},
   "outputs": [],
   "source": [
    "X,Y = filter_values(datax,datay, 0,1)\n",
    "lin = Lineaire(eps=0.1, max_iter=1000)\n",
    "lin.fit(X,Y)\n",
    "show_usps(lin.w[1:])"
   ]
  },
  {
   "cell_type": "code",
   "execution_count": null,
   "metadata": {},
   "outputs": [],
   "source": [
    "lin.score(X,Y)"
   ]
  },
  {
   "cell_type": "code",
   "execution_count": null,
   "metadata": {},
   "outputs": [],
   "source": [
    "X,Y = filter_values(datax,datay, 1,8)\n",
    "lin = Lineaire(eps=0.1)\n",
    "lin.fit(X,Y)\n",
    "show_usps(lin.w[1:])"
   ]
  },
  {
   "cell_type": "code",
   "execution_count": null,
   "metadata": {},
   "outputs": [],
   "source": [
    "X,Y = filter_values(datax,datay, 0,5)\n",
    "lin = Lineaire(eps=0.1)\n",
    "lin.fit(X,Y)\n",
    "show_usps(lin.w[1:])"
   ]
  },
  {
   "cell_type": "markdown",
   "metadata": {},
   "source": [
    "Maintenant on compare un nombre contre les autres."
   ]
  },
  {
   "cell_type": "code",
   "execution_count": null,
   "metadata": {},
   "outputs": [],
   "source": [
    "X,Y = one_againt_others(datax, datay, 5)\n",
    "lin = Lineaire(eps=0.1)\n",
    "lin.fit(X,Y)\n",
    "show_usps(lin.w[1:])"
   ]
  },
  {
   "cell_type": "markdown",
   "metadata": {},
   "source": [
    "### Sur apprentissage"
   ]
  },
  {
   "cell_type": "code",
   "execution_count": null,
   "metadata": {},
   "outputs": [],
   "source": [
    "number = 5\n",
    "datax,datay = load_usps('USPS/USPS_train.txt')\n",
    "X,Y = one_againt_others(datax,datay, number)\n",
    "datax_test,datay_test = load_usps('USPS/USPS_test.txt')\n",
    "X_test,Y_test = one_againt_others(datax_test,datay_test, number)"
   ]
  },
  {
   "cell_type": "code",
   "execution_count": null,
   "metadata": {},
   "outputs": [],
   "source": [
    "results_train = {}\n",
    "results_test = {}\n",
    "epsilons = [0.005,0.01,0.05,0.1]\n",
    "iter_ns = np.linspace(1000, 30000, 10, dtype=int)\n",
    "for eps in epsilons:\n",
    "    print(eps)\n",
    "    res_train = []\n",
    "    res_test = []\n",
    "    for iter_n in iter_ns:\n",
    "        lin = Lineaire(eps=eps, max_iter=int(iter_n))\n",
    "        lin.fit(X,Y)\n",
    "        res_train.append(lin.score(X,Y))\n",
    "        res_test.append(lin.score(X_test,Y_test))\n",
    "    results_train[eps] = res_train\n",
    "    results_test[eps] = res_test"
   ]
  },
  {
   "cell_type": "code",
   "execution_count": null,
   "metadata": {},
   "outputs": [],
   "source": [
    "def eps_plot(x,y_train,y_test, eps):\n",
    "    plt.figure()\n",
    "    plt.title(\"epsilon = \" + str(eps))\n",
    "    plt.xlabel(\"iterations\")\n",
    "    plt.ylabel(\"precisiion\")\n",
    "    plt.plot(x, y_train, label=\"train\")\n",
    "    plt.plot(x, y_test, label=\"test\")\n",
    "    plt.legend()\n",
    "    plt.show()\n",
    "\n",
    "for eps in epsilons:\n",
    "    eps_plot(iter_ns, results_train[eps], results_test[eps], eps)"
   ]
  },
  {
   "cell_type": "markdown",
   "metadata": {},
   "source": [
    "Comme nous pouvons constater de cet figures, il n'y a pas grande differences entre train et test, si on fait varier le nombre des iterations."
   ]
  },
  {
   "cell_type": "markdown",
   "metadata": {},
   "source": [
    "### Biais\n",
    "Nous essayons si il y a difference dans le score, quand on tiens au compte le biais."
   ]
  },
  {
   "cell_type": "code",
   "execution_count": null,
   "metadata": {},
   "outputs": [],
   "source": [
    "results_non_biais = []\n",
    "results_biais = []\n",
    "iter_ns = np.linspace(1000, 30000, 20, dtype=int)\n",
    "for iter_n in iter_ns:\n",
    "    lin_biais = Lineaire(eps=0.05, max_iter=int(iter_n), polynomial_degree=1)\n",
    "    lin_non_biais = Lineaire(eps=0.05, max_iter=int(iter_n), polynomial_degree=0)\n",
    "    lin_biais.fit(X,Y)\n",
    "    lin_non_biais.fit(X,Y)\n",
    "    results_biais.append(lin_biais.score(X_test,Y_test))\n",
    "    results_non_biais.append(lin_non_biais.score(X_test,Y_test))\n",
    "\n",
    "plt.figure()\n",
    "plt.title(\"Biais vs non biais\")\n",
    "plt.xlabel(\"iterations\")\n",
    "plt.ylabel(\"precisiion\")\n",
    "plt.plot(iter_ns, results_non_biais, label=\"non-biais\")\n",
    "plt.plot(iter_ns, results_biais, label=\"biais\")\n",
    "plt.legend()\n",
    "plt.show()\n",
    "\n",
    "print(\"sans biais : \" + str(np.mean(results_non_biais)))\n",
    "print(\"avec biais : \" + str(np.mean(results_biais)))"
   ]
  },
  {
   "cell_type": "markdown",
   "metadata": {},
   "source": [
    "Ca semble que le biais ne permet pas classifier mieux les données test."
   ]
  },
  {
   "cell_type": "markdown",
   "metadata": {},
   "source": [
    "### Polynomial test\n"
   ]
  },
  {
   "cell_type": "code",
   "execution_count": null,
   "metadata": {},
   "outputs": [],
   "source": [
    "def polynomial_test(degree):\n",
    "    results_train = []\n",
    "    results_test = []\n",
    "    iter_ns = np.linspace(1000, 30000, 20, dtype=int)\n",
    "    for iter_n in iter_ns:\n",
    "        lin = Lineaire(eps=0.05, max_iter=int(iter_n), polynomial_degree=degree)\n",
    "        lin.fit(X,Y)\n",
    "        results_train.append(lin.score(X,Y))\n",
    "        results_test.append(lin.score(X_test,Y_test))\n",
    "\n",
    "    plt.figure()\n",
    "    plt.title(\"Test vs train avec polynomial \"+str(degree)+\" degree\")\n",
    "    plt.xlabel(\"iterations\")\n",
    "    plt.ylabel(\"precisiion\")\n",
    "    plt.plot(iter_ns, results_train, label=\"train\")\n",
    "    plt.plot(iter_ns, results_test, label=\"test\")\n",
    "    plt.legend()\n",
    "    plt.show()"
   ]
  },
  {
   "cell_type": "code",
   "execution_count": null,
   "metadata": {},
   "outputs": [],
   "source": [
    "polynomial_test(2)\n",
    "polynomial_test(3)\n",
    "polynomial_test(4)"
   ]
  }
 ],
 "metadata": {
  "anaconda-cloud": {},
  "kernelspec": {
   "display_name": "Python [conda root]",
   "language": "python",
   "name": "conda-root-py"
  },
  "language_info": {
   "codemirror_mode": {
    "name": "ipython",
    "version": 3
   },
   "file_extension": ".py",
   "mimetype": "text/x-python",
   "name": "python",
   "nbconvert_exporter": "python",
   "pygments_lexer": "ipython3"
  }
 },
 "nbformat": 4,
 "nbformat_minor": 2
}
