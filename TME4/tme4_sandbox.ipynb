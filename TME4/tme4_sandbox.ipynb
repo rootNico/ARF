{
 "cells": [
  {
   "cell_type": "code",
   "execution_count": null,
   "metadata": {},
   "outputs": [],
   "source": [
    "import numpy as np\n",
    "import matplotlib.pyplot as plt\n",
    "from tme4_etu import *\n",
    "from arftools import *\n",
    "from cross_validation import validation_croisee\n",
    "%load_ext autoreload\n",
    "%autoreload 2"
   ]
  },
  {
   "cell_type": "code",
   "execution_count": null,
   "metadata": {},
   "outputs": [],
   "source": [
    "fn = 'USPS/USPS_train.txt'\n",
    "datax,datay = load_usps(fn)"
   ]
  },
  {
   "cell_type": "code",
   "execution_count": null,
   "metadata": {},
   "outputs": [],
   "source": [
    "show_usps(datax[6])"
   ]
  },
  {
   "cell_type": "code",
   "execution_count": null,
   "metadata": {},
   "outputs": [],
   "source": [
    "grid,x1list,x2list=make_grid(xmin=-4,xmax=4,ymin=-4,ymax=4)\n",
    "grid.shape"
   ]
  },
  {
   "cell_type": "code",
   "execution_count": null,
   "metadata": {},
   "outputs": [],
   "source": [
    "N = 1000\n",
    "data_2d = datax[0:N, 110:112]\n",
    "plot_error(data_2d, datay[0:N], mse)\n",
    "#plot_error(data_2d, datay[0:N], mse_g)"
   ]
  },
  {
   "cell_type": "code",
   "execution_count": null,
   "metadata": {},
   "outputs": [],
   "source": [
    "N = 1000\n",
    "data_2d = datax[0:N, 110:112]\n",
    "plot_error(data_2d, datay[0:N], hinge)\n",
    "#plot_error(data_2d, datay[0:N], hinge_g)"
   ]
  },
  {
   "cell_type": "code",
   "execution_count": null,
   "metadata": {},
   "outputs": [],
   "source": [
    "X,Y = gen_arti()\n",
    " # change à binaire\n",
    "lin = Lineaire()\n",
    "lin.fit(X,Y)\n",
    "print(lin.score(X,Y))\n",
    "# on a triché quand on a utilisé les donnees d'aprentissage à tester\n",
    "X.shape"
   ]
  },
  {
   "cell_type": "code",
   "execution_count": null,
   "metadata": {},
   "outputs": [],
   "source": [
    "print(validation_croisee(X,Y,Lineaire(), 5))"
   ]
  },
  {
   "cell_type": "markdown",
   "metadata": {},
   "source": [
    "### Visualisation de W"
   ]
  },
  {
   "cell_type": "code",
   "execution_count": null,
   "metadata": {},
   "outputs": [],
   "source": [
    "from utils import filter_values, one_againt_others"
   ]
  },
  {
   "cell_type": "code",
   "execution_count": null,
   "metadata": {},
   "outputs": [],
   "source": [
    "fn = 'USPS/USPS_train.txt'\n",
    "datax,datay = load_usps(fn)"
   ]
  },
  {
   "cell_type": "code",
   "execution_count": null,
   "metadata": {},
   "outputs": [],
   "source": [
    "X,Y = filter_values(datax,datay, 6,9)\n",
    "lin = Lineaire(eps=0.1)\n",
    "lin.fit(X,Y)\n",
    "show_usps(lin.w)"
   ]
  },
  {
   "cell_type": "code",
   "execution_count": null,
   "metadata": {},
   "outputs": [],
   "source": [
    "X,Y = filter_values(datax,datay, 1,8)\n",
    "lin = Lineaire(eps=0.1)\n",
    "lin.fit(X,Y)\n",
    "show_usps(lin.w)"
   ]
  },
  {
   "cell_type": "code",
   "execution_count": null,
   "metadata": {},
   "outputs": [],
   "source": [
    "X,Y = filter_values(datax,datay, 0,5)\n",
    "lin = Lineaire(eps=0.1)\n",
    "lin.fit(X,Y)\n",
    "show_usps(lin.w)"
   ]
  },
  {
   "cell_type": "markdown",
   "metadata": {},
   "source": [
    "Maintenant on compare un nombre contre les autres."
   ]
  },
  {
   "cell_type": "code",
   "execution_count": null,
   "metadata": {},
   "outputs": [],
   "source": [
    "X,Y = one_againt_others(datax, datay, 2)\n",
    "lin = Lineaire(eps=0.1)\n",
    "lin.fit(X,Y)\n",
    "show_usps(lin.w)"
   ]
  },
  {
   "cell_type": "markdown",
   "metadata": {},
   "source": [
    "### Sur apprentissage"
   ]
  },
  {
   "cell_type": "code",
   "execution_count": null,
   "metadata": {},
   "outputs": [],
   "source": [
    "datax,datay = load_usps('USPS/USPS_train.txt')\n",
    "X,Y = one_againt_others(datax,datay, 6)\n",
    "datax_test,datay_test = load_usps('USPS/USPS_train.txt')\n",
    "X_test,Y_test = one_againt_others(datax_test,datay_test, 6)"
   ]
  },
  {
   "cell_type": "code",
   "execution_count": null,
   "metadata": {},
   "outputs": [],
   "source": [
    "results_train = []\n",
    "results_test = []\n",
    "iter_ns = np.linspace(1000, 5000, 5)\n",
    "for iter_n in iter_ns:\n",
    "    print(iter_n)\n",
    "    lin = Lineaire(max_iter=int(iter_n))\n",
    "    lin.fit(X,Y)\n",
    "    results_train.append(lin.score(X,Y))\n",
    "    results_test.append(lin.score(X_test,Y_test))"
   ]
  },
  {
   "cell_type": "code",
   "execution_count": null,
   "metadata": {},
   "outputs": [],
   "source": [
    "plt.plot(iter_ns, results_train, label=\"train\")\n",
    "plt.plot(iter_ns, results_test, label=\"test\")\n",
    "plt.legend()\n",
    "plt.show()"
   ]
  },
  {
   "cell_type": "code",
   "execution_count": null,
   "metadata": {},
   "outputs": [],
   "source": []
  }
 ],
 "metadata": {
  "anaconda-cloud": {},
  "kernelspec": {
   "display_name": "Python [conda root]",
   "language": "python",
   "name": "conda-root-py"
  },
  "language_info": {
   "codemirror_mode": {
    "name": "ipython",
    "version": 3
   },
   "file_extension": ".py",
   "mimetype": "text/x-python",
   "name": "python",
   "nbconvert_exporter": "python",
   "pygments_lexer": "ipython3"
  }
 },
 "nbformat": 4,
 "nbformat_minor": 2
}
