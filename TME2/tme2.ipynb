{
 "cells": [
  {
   "cell_type": "code",
   "execution_count": null,
   "metadata": {},
   "outputs": [],
   "source": [
    "#%run gmap-poi.py\n",
    "#%run tme2-poi.py"
   ]
  },
  {
   "cell_type": "code",
   "execution_count": null,
   "metadata": {},
   "outputs": [],
   "source": [
    "%load_ext autoreload\n",
    "%autoreload 2\n",
    "import numpy as np\n",
    "import matplotlib.pyplot as plt\n",
    "import matplotlib.image as mpimg\n",
    "import pickle\n",
    "from Histogramme import Histogramme\n",
    "from KernelDensity import KernelDensity"
   ]
  },
  {
   "cell_type": "code",
   "execution_count": null,
   "metadata": {},
   "outputs": [],
   "source": [
    "plt.ion()\n",
    "parismap = mpimg.imread('data/paris-48.806-2.23--48.916-2.48.jpg')\n",
    "\n",
    "## coordonnees GPS de la carte\n",
    "xmin,xmax = 2.23,2.48   ## coord_x min et max\n",
    "ymin,ymax = 48.806,48.916 ## coord_y min et max\n",
    "\n",
    "def show_map():\n",
    "    plt.imshow(parismap,extent=[xmin,xmax,ymin,ymax],aspect=1.5)\n",
    "    ## extent pour controler l'echelle du plan"
   ]
  },
  {
   "cell_type": "code",
   "execution_count": null,
   "metadata": {},
   "outputs": [],
   "source": [
    "poifile = \"data/poi-paris.pkl\"\n",
    "poidata = pickle.load(open(poifile,\"rb\"))\n",
    "## liste des types de point of interest (poi)\n",
    "print(\"Liste des types de POI\" , \", \".join(poidata.keys()))\n",
    "\n",
    "## Choix d'un poi\n",
    "typepoi = \"atm\"\n",
    "\n",
    "## Creation de la matrice des coordonnees des POI\n",
    "geo_mat = np.zeros((len(poidata[typepoi]),2))\n",
    "for i,(k,v) in enumerate(poidata[typepoi].items()):\n",
    "    geo_mat[i,:]=v[0]\n",
    "\n",
    "## Affichage brut des poi\n",
    "show_map()\n",
    "## alpha permet de regler la transparence, s la taille\n",
    "plt.scatter(geo_mat[:,1],geo_mat[:,0],alpha=0.8,s=3)"
   ]
  },
  {
   "cell_type": "markdown",
   "metadata": {},
   "source": [
    "Visualiser le carte, histogramme calculé par matplotlib et le histogramme calculé par classe Histogramme.\n",
    "On fait se varier le nombre des bins dans l'histogramme."
   ]
  },
  {
   "cell_type": "code",
   "execution_count": null,
   "metadata": {},
   "outputs": [],
   "source": [
    "for steps in [5,10,15]:\n",
    "    # discretisation pour l'affichage des modeles d'estimation de densite\n",
    "    xx,yy = np.meshgrid(np.linspace(xmin,xmax,steps),np.linspace(ymin,ymax,steps))\n",
    "    grid = np.c_[xx.ravel(),yy.ravel()]\n",
    "\n",
    "    # A remplacer par res = monModele.predict(grid).reshape(steps,steps)\n",
    "    #hist2d = np.histogram2d(geo_mat[:,0],geo_mat[:,1], normed=1)\n",
    "    #res = np.random.random((steps,steps))\n",
    "    monModele = Histogramme(geo_mat)\n",
    "    res = monModele.predict(grid).reshape(steps,steps)\n",
    "    plt.figure(num=None, figsize=(10,8))\n",
    "    show_map()\n",
    "    #plt.figure(num=None, figsize=(6,4))\n",
    "    #plt.hist2d(geo_mat[:,1],geo_mat[:,0])\n",
    "    plt.imshow(res,extent=[xmin,xmax,ymin,ymax],interpolation=\"none\",alpha=0.3,origin = \"lower\")\n",
    "    plt.colorbar()"
   ]
  },
  {
   "cell_type": "markdown",
   "metadata": {},
   "source": [
    "On peut voir chaque fois bien, que le densité maximum (des ATMs) est dans 9iéme arrondissement. Par contre c'est pas trés visible dans les endroits ou dénsité est moins fort."
   ]
  },
  {
   "cell_type": "markdown",
   "metadata": {},
   "source": [
    "## Densité par noyaux"
   ]
  },
  {
   "cell_type": "markdown",
   "metadata": {},
   "source": [
    "Comme la methode de histogramme ne permet pas visualiser les atms, si on discretise avec 15 etapes, je vais fixer le variable steps à 15 pour l'éstimation par noyau. L'éstimation par noyau a une variable h qui est taille de lissage. On va varier d'abord h."
   ]
  },
  {
   "cell_type": "markdown",
   "metadata": {},
   "source": [
    "### Parzen comme fonction de Noyau"
   ]
  },
  {
   "cell_type": "code",
   "execution_count": null,
   "metadata": {},
   "outputs": [],
   "source": [
    "steps = 15\n",
    "# discretisation pour l'affichage des modeles d'estimation de densite\n",
    "xx,yy = np.meshgrid(np.linspace(xmin,xmax,steps),np.linspace(ymin,ymax,steps))\n",
    "grid = np.c_[yy.ravel(),xx.ravel()]\n",
    "\n",
    "model_noyau = KernelDensity(geo_mat, 'parzen')\n",
    "\n",
    "for h in [0.05, 0.1, 0.15, 0.25, 0.5]:\n",
    "    densite_noyau = model_noyau.predict(grid,h).reshape(steps,steps)\n",
    "    plt.figure(num=None, figsize=(6,4))\n",
    "    plt.title(\"h = \" + str(h))\n",
    "    show_map()\n",
    "    plt.imshow(densite_noyau,extent=[xmin,xmax,ymin,ymax],interpolation=\"none\",alpha=0.3,origin = \"lower\")\n",
    "    plt.colorbar()"
   ]
  },
  {
   "cell_type": "markdown",
   "metadata": {},
   "source": [
    "Dans ce cas, si h >= 0.25, l'éstimation est \"oversmoothed\". h = 0.15 l'air le plus optimal, car il tiens en compte les points partout dans Paris, mais le densité est egalément visible."
   ]
  },
  {
   "cell_type": "markdown",
   "metadata": {},
   "source": [
    "### Gauss comme fonction de Noyau"
   ]
  },
  {
   "cell_type": "code",
   "execution_count": null,
   "metadata": {},
   "outputs": [],
   "source": [
    "steps = 15\n",
    "# discretisation pour l'affichage des modeles d'estimation de densite\n",
    "xx,yy = np.meshgrid(np.linspace(xmin,xmax,steps),np.linspace(ymin,ymax,steps))\n",
    "grid = np.c_[yy.ravel(),xx.ravel()]\n",
    "\n",
    "model_noyau = KernelDensity(geo_mat, 'gauss')\n",
    "\n",
    "for h in [0.05, 0.1, 0.15, 0.25, 0.5]:\n",
    "    densite_noyau = model_noyau.predict(grid,h).reshape(steps,steps)\n",
    "    plt.figure(num=None, figsize=(6,4))\n",
    "    plt.title(\"h = \" + str(h))\n",
    "    show_map()\n",
    "    plt.imshow(densite_noyau,extent=[xmin,xmax,ymin,ymax],interpolation=\"none\",alpha=0.3,origin = \"lower\")\n",
    "    plt.colorbar()"
   ]
  },
  {
   "cell_type": "markdown",
   "metadata": {},
   "source": [
    "Avec le gaussien, le meilleur paramatre de lissage est peut être 0.05."
   ]
  },
  {
   "cell_type": "markdown",
   "metadata": {},
   "source": [
    "#### Comment choisir de manière automatique les meilleurs paramètres ?\n",
    "\n",
    "C'est possible de deduire automatiquement le meilleur parametre h. En calculant MISE (Mean integrated squared error), on peut deduire l'optimal h. Par exemple, pour lissage gaussian l'optimal h sera ~1.06 * ecart-type * n ^ 1/5.\n",
    "\n",
    "https://en.wikipedia.org/wiki/Kernel_density_estimation#Bandwidth_selection\n",
    "[Very fast optimal bandwidth selection for univariate\n",
    "kernel density estimation, Raykar et al](http://www.umiacs.umd.edu/labs/cvl/pirl/vikas/publications/CS-TR-4774.pdf)"
   ]
  },
  {
   "cell_type": "markdown",
   "metadata": {},
   "source": [
    "Calculons l'optimal h pour les données."
   ]
  },
  {
   "cell_type": "code",
   "execution_count": null,
   "metadata": {},
   "outputs": [],
   "source": [
    "def calcul_gauss_h_optim(data):\n",
    "    norms = np.array([np.linalg.norm(g) for g in data])\n",
    "    ecart = norms.std()\n",
    "    n = len(data)\n",
    "    return 1.06 * ecart * n ** 0.2\n",
    "\n",
    "h_optimal = calcul_gauss_h_optim(geo_mat)\n",
    "print(\"h optimal = \",h_optimal)"
   ]
  },
  {
   "cell_type": "code",
   "execution_count": null,
   "metadata": {},
   "outputs": [],
   "source": [
    "steps = 15\n",
    "xx,yy = np.meshgrid(np.linspace(xmin,xmax,steps),np.linspace(ymin,ymax,steps))\n",
    "grid = np.c_[yy.ravel(),xx.ravel()]\n",
    "\n",
    "model_noyau = KernelDensity(geo_mat, 'gauss')\n",
    "\n",
    "densite_noyau = model_noyau.predict(grid,h_optimal).reshape(steps,steps)\n",
    "plt.figure(num=None, figsize=(6,4))\n",
    "plt.title(\"h optimal = \" + str(h_optimal))\n",
    "show_map()\n",
    "plt.imshow(densite_noyau,extent=[xmin,xmax,ymin,ymax],interpolation=\"none\",alpha=0.3,origin = \"lower\")\n",
    "plt.colorbar()"
   ]
  },
  {
   "cell_type": "markdown",
   "metadata": {},
   "source": [
    "## Differentes POIs"
   ]
  },
  {
   "cell_type": "code",
   "execution_count": null,
   "metadata": {},
   "outputs": [],
   "source": [
    "poifile = \"data/poi-paris.pkl\"\n",
    "poidata = pickle.load(open(poifile,\"rb\"))\n",
    "## liste des types de point of interest (poi)\n",
    "print(\"Liste des types de POI\" , \", \".join(poidata.keys()))\n",
    "\n",
    "def get_poi_geo(data,poi):\n",
    "    geo = np.zeros((len(data[poi]),2))\n",
    "    for i,(k,v) in enumerate(data[poi].items()):\n",
    "        geo[i,:]=v[0]\n",
    "    return geo\n",
    "\n",
    "pois = [(\"bar\",get_poi_geo(poidata,\"bar\")),\n",
    "        (\"night_club\",get_poi_geo(poidata,\"night_club\")),\n",
    "        (\"laundry\",get_poi_geo(poidata,\"laundry\")),\n",
    "        (\"cafe\",get_poi_geo(poidata,\"cafe\"))]"
   ]
  },
  {
   "cell_type": "code",
   "execution_count": null,
   "metadata": {},
   "outputs": [],
   "source": [
    "steps = 15\n",
    "xx,yy = np.meshgrid(np.linspace(xmin,xmax,steps),np.linspace(ymin,ymax,steps))\n",
    "grid = np.c_[yy.ravel(),xx.ravel()]\n",
    "\n",
    "for poi in pois:\n",
    "    model_noyau = KernelDensity(poi[1], 'gauss')\n",
    "    h_optimal = calcul_gauss_h_optim(poi[1])\n",
    "    densite_noyau = model_noyau.predict(grid,h_optimal).reshape(steps,steps)\n",
    "    plt.figure(num=None, figsize=(6,4))\n",
    "    plt.title(poi[0] + \", h optimal = \" + str(h_optimal))\n",
    "    show_map()\n",
    "    plt.imshow(densite_noyau,extent=[xmin,xmax,ymin,ymax],interpolation=\"none\",alpha=0.3,origin = \"lower\")\n",
    "    plt.colorbar()"
   ]
  },
  {
   "cell_type": "markdown",
   "metadata": {},
   "source": [
    "Selon les visualisations precedents, ce n'est pas facile de classifier le type de poi sachant que localisation. Je pense le KNN ne sera pas trés utile sur ce données."
   ]
  }
 ],
 "metadata": {
  "anaconda-cloud": {},
  "kernelspec": {
   "display_name": "Python [conda root]",
   "language": "python",
   "name": "conda-root-py"
  },
  "language_info": {
   "codemirror_mode": {
    "name": "ipython",
    "version": 3
   },
   "file_extension": ".py",
   "mimetype": "text/x-python",
   "name": "python",
   "nbconvert_exporter": "python",
   "pygments_lexer": "ipython3"
  }
 },
 "nbformat": 4,
 "nbformat_minor": 2
}
