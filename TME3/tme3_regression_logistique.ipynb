{
 "cells": [
  {
   "cell_type": "code",
   "execution_count": 7,
   "metadata": {
    "collapsed": false
   },
   "outputs": [
    {
     "name": "stdout",
     "output_type": "stream",
     "text": [
      "The autoreload extension is already loaded. To reload it, use:\n",
      "  %reload_ext autoreload\n"
     ]
    }
   ],
   "source": [
    "import numpy as np\n",
    "from Logistic_regression import Logistic_regression\n",
    "from utils import filter_values, load_usps, display_image\n",
    "%load_ext autoreload\n",
    "%autoreload 2"
   ]
  },
  {
   "cell_type": "code",
   "execution_count": 11,
   "metadata": {
    "collapsed": false
   },
   "outputs": [],
   "source": [
    "datax, datay = load_usps(\"USPS/usps_train.txt\",sample=400)\n",
    "datax_test, datay_test = load_usps(\"USPS/usps_test.txt\", sample=200)\n",
    "datax, datay = filter_values(datax, datay, 0, 1)\n",
    "datax_test, datay_test = filter_values(datax_test, datay_test, 0, 1)"
   ]
  },
  {
   "cell_type": "code",
   "execution_count": 12,
   "metadata": {
    "collapsed": false
   },
   "outputs": [
    {
     "data": {
      "text/plain": [
       "(130,)"
      ]
     },
     "execution_count": 12,
     "metadata": {},
     "output_type": "execute_result"
    }
   ],
   "source": [
    "datay.shape"
   ]
  },
  {
   "cell_type": "code",
   "execution_count": 4,
   "metadata": {
    "collapsed": false
   },
   "outputs": [],
   "source": [
    "reg = Logistic_regression(10, 0.5)"
   ]
  },
  {
   "cell_type": "code",
   "execution_count": 5,
   "metadata": {
    "collapsed": false
   },
   "outputs": [
    {
     "name": "stdout",
     "output_type": "stream",
     "text": [
      "iteration :  0\n",
      "iteration :  1\n"
     ]
    },
    {
     "name": "stderr",
     "output_type": "stream",
     "text": [
      "/Users/samutamminen/Documents/Study/Sorbonne/S2/ARF/TME/TME3/Logistic_regression.py:22: RuntimeWarning: overflow encountered in exp\n",
      "  d_W[i] = -sum([-(2 * Y[j] - 1) * X[j, i] * (1 / (1 + np.exp(-(2 * Y[j] - 1) * np.dot(W.T, X[j])))) for j in range(len(X))])\n",
      "/Users/samutamminen/Documents/Study/Sorbonne/S2/ARF/TME/TME3/Logistic_regression.py:17: RuntimeWarning: overflow encountered in exp\n",
      "  return -sum([np.log(1 + np.exp(-(2 * Y[i] - 1) * np.dot(W.T, X[i]))) for i in range(len(X))])\n"
     ]
    },
    {
     "name": "stdout",
     "output_type": "stream",
     "text": [
      "iteration :  2\n",
      "iteration :  3\n",
      "iteration :  4\n",
      "iteration :  5\n",
      "iteration :  6\n",
      "iteration :  7\n",
      "iteration :  8\n",
      "iteration :  9\n"
     ]
    }
   ],
   "source": [
    "model = reg.fit(datax, datay)"
   ]
  },
  {
   "cell_type": "code",
   "execution_count": 13,
   "metadata": {
    "collapsed": false
   },
   "outputs": [
    {
     "name": "stdout",
     "output_type": "stream",
     "text": [
      "0.001\n",
      "iteration :  0\n",
      "iteration :  1\n",
      "iteration :  2\n",
      "iteration :  3\n",
      "iteration :  4\n",
      "iteration :  5\n",
      "iteration :  6\n",
      "iteration :  7\n",
      "iteration :  8\n",
      "iteration :  9\n"
     ]
    },
    {
     "name": "stderr",
     "output_type": "stream",
     "text": [
      "/Users/samutamminen/Documents/Study/Sorbonne/S2/ARF/TME/TME3/Logistic_regression.py:14: RuntimeWarning: invalid value encountered in log\n",
      "  return np.log(proba / (1 - proba)) > 0\n"
     ]
    },
    {
     "name": "stdout",
     "output_type": "stream",
     "text": [
      "0.7017543859649122\n",
      "0.02575\n",
      "iteration :  0\n",
      "iteration :  1\n",
      "iteration :  2\n",
      "iteration :  3\n",
      "iteration :  4\n",
      "iteration :  5\n",
      "iteration :  6\n",
      "iteration :  7\n",
      "iteration :  8\n",
      "iteration :  9\n",
      "0.7017543859649122\n",
      "0.0505\n",
      "iteration :  0\n",
      "iteration :  1\n",
      "iteration :  2\n",
      "iteration :  3\n",
      "iteration :  4\n",
      "iteration :  5\n",
      "iteration :  6\n",
      "iteration :  7\n",
      "iteration :  8\n",
      "iteration :  9\n",
      "0.7017543859649122\n",
      "0.07525\n",
      "iteration :  0\n",
      "iteration :  1\n",
      "iteration :  2\n",
      "iteration :  3\n",
      "iteration :  4\n",
      "iteration :  5\n",
      "iteration :  6\n",
      "iteration :  7\n",
      "iteration :  8\n",
      "iteration :  9\n",
      "0.7017543859649122\n",
      "0.1\n",
      "iteration :  0\n",
      "iteration :  1\n"
     ]
    },
    {
     "name": "stderr",
     "output_type": "stream",
     "text": [
      "/Users/samutamminen/Documents/Study/Sorbonne/S2/ARF/TME/TME3/Logistic_regression.py:22: RuntimeWarning: overflow encountered in exp\n",
      "  d_W[i] = -sum([-(2 * Y[j] - 1) * X[j, i] * (1 / (1 + np.exp(-(2 * Y[j] - 1) * np.dot(W.T, X[j])))) for j in range(len(X))])\n",
      "/Users/samutamminen/Documents/Study/Sorbonne/S2/ARF/TME/TME3/Logistic_regression.py:17: RuntimeWarning: overflow encountered in exp\n",
      "  return -sum([np.log(1 + np.exp(-(2 * Y[i] - 1) * np.dot(W.T, X[i]))) for i in range(len(X))])\n"
     ]
    },
    {
     "name": "stdout",
     "output_type": "stream",
     "text": [
      "iteration :  2\n",
      "iteration :  3\n",
      "iteration :  4\n",
      "iteration :  5\n",
      "iteration :  6\n",
      "iteration :  7\n",
      "iteration :  8\n",
      "iteration :  9\n",
      "0.7017543859649122\n"
     ]
    }
   ],
   "source": [
    "scores = []\n",
    "for eps in np.linspace(0.001, 0.1, 5):\n",
    "    print(eps)\n",
    "    reg = Logistic_regression(10, eps)\n",
    "    model = reg.fit(datax, datay)\n",
    "    s,_ = model.score(datax_test, datay_test)\n",
    "    print(s)\n",
    "    scores.append(s)"
   ]
  },
  {
   "cell_type": "markdown",
   "metadata": {},
   "source": [
    "Les scores sont tous pareil, maais le pas de gradient >= 0.1 se semble de poser les problems. Donc je vais travailler avec eps = 0.025"
   ]
  },
  {
   "cell_type": "code",
   "execution_count": 33,
   "metadata": {
    "collapsed": false
   },
   "outputs": [],
   "source": [
    "from cross_validation import validation_croisee"
   ]
  },
  {
   "cell_type": "code",
   "execution_count": 44,
   "metadata": {
    "collapsed": true
   },
   "outputs": [],
   "source": [
    "datax, datay = load_usps(\"USPS/usps_train.txt\",sample=1000)\n",
    "datax, datay = filter_values(datax, datay, 0, 1)"
   ]
  },
  {
   "cell_type": "code",
   "execution_count": 45,
   "metadata": {
    "collapsed": false
   },
   "outputs": [
    {
     "name": "stderr",
     "output_type": "stream",
     "text": [
      "/Users/samutamminen/Documents/Study/Sorbonne/S2/ARF/TME/TME3/Logistic_regression.py:14: RuntimeWarning: invalid value encountered in log\n",
      "  return np.log(proba / (1 - proba)) > 0\n"
     ]
    },
    {
     "name": "stdout",
     "output_type": "stream",
     "text": [
      "0.558813559322\n"
     ]
    }
   ],
   "source": [
    "eps = 0.025\n",
    "reg = Logistic_regression(20, eps)\n",
    "score = validation_croisee(datax, datay, reg,5)\n",
    "print(score)"
   ]
  },
  {
   "cell_type": "code",
   "execution_count": 46,
   "metadata": {
    "collapsed": false
   },
   "outputs": [
    {
     "name": "stdout",
     "output_type": "stream",
     "text": [
      "0.7017543859649122\n"
     ]
    },
    {
     "name": "stderr",
     "output_type": "stream",
     "text": [
      "/Users/samutamminen/Documents/Study/Sorbonne/S2/ARF/TME/TME3/Logistic_regression.py:14: RuntimeWarning: invalid value encountered in log\n",
      "  return np.log(proba / (1 - proba)) > 0\n"
     ]
    }
   ],
   "source": [
    "eps = 0.025\n",
    "reg = Logistic_regression(20, eps)\n",
    "model = reg.fit(datax, datay)\n",
    "s, labels = model.score(datax_test, datay_test)\n",
    "print(s)"
   ]
  },
  {
   "cell_type": "code",
   "execution_count": null,
   "metadata": {
    "collapsed": true
   },
   "outputs": [],
   "source": []
  }
 ],
 "metadata": {
  "anaconda-cloud": {},
  "kernelspec": {
   "display_name": "Python [conda root]",
   "language": "python",
   "name": "conda-root-py"
  },
  "language_info": {
   "codemirror_mode": {
    "name": "ipython",
    "version": 3
   },
   "file_extension": ".py",
   "mimetype": "text/x-python",
   "name": "python",
   "nbconvert_exporter": "python",
   "pygments_lexer": "ipython3",
   "version": "3.5.4"
  }
 },
 "nbformat": 4,
 "nbformat_minor": 2
}
