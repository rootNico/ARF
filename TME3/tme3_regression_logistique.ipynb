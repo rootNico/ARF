{
 "cells": [
  {
   "cell_type": "code",
   "execution_count": 1,
   "metadata": {
    "collapsed": false
   },
   "outputs": [],
   "source": [
    "import numpy as np\n",
    "from Logistic_regression import Logistic_regression\n",
    "from utils import filter_values, load_usps, display_image, one_againt_others\n",
    "import matplotlib.pyplot as plt\n",
    "%load_ext autoreload\n",
    "%autoreload 2"
   ]
  },
  {
   "cell_type": "code",
   "execution_count": 2,
   "metadata": {
    "collapsed": false
   },
   "outputs": [],
   "source": [
    "datax, datay = load_usps(\"USPS/usps_train.txt\")\n",
    "datax_test, datay_test = load_usps(\"USPS/usps_test.txt\")\n",
    "datax, datay = filter_values(datax, datay, 0, 1)\n",
    "datax_test, datay_test = filter_values(datax_test, datay_test, 0, 1)"
   ]
  },
  {
   "cell_type": "code",
   "execution_count": 3,
   "metadata": {
    "collapsed": false
   },
   "outputs": [
    {
     "name": "stdout",
     "output_type": "stream",
     "text": [
      "0.001\n",
      "0.9454253611556982\n",
      "0.02575\n"
     ]
    },
    {
     "name": "stderr",
     "output_type": "stream",
     "text": [
      "/Users/samutamminen/Documents/Study/Sorbonne/S2/ARF/TME/TME3/Logistic_regression.py:16: RuntimeWarning: overflow encountered in exp\n",
      "  d_W[i] = -sum([-(2 * Y[j] - 1) * X[j, i] * (1 / (1 + np.exp(-(2 * Y[j] - 1) * np.dot(W.T, X[j])))) for j in range(len(X))])\n",
      "/Users/samutamminen/Documents/Study/Sorbonne/S2/ARF/TME/TME3/Logistic_regression.py:11: RuntimeWarning: overflow encountered in exp\n",
      "  return -sum([np.log(1 + np.exp(-(2 * Y[i] - 1) * np.dot(W.T, X[i]))) for i in range(len(X))])\n"
     ]
    },
    {
     "name": "stdout",
     "output_type": "stream",
     "text": [
      "0.7945425361155698\n",
      "0.0505\n",
      "0.9871589085072231\n",
      "0.07525\n",
      "0.9775280898876404\n",
      "0.1\n",
      "0.9839486356340289\n"
     ]
    }
   ],
   "source": [
    "scores = []\n",
    "for eps in np.linspace(0.001, 0.1, 5):\n",
    "    print(eps)\n",
    "    reg = Logistic_regression(10, eps)\n",
    "    model = reg.fit(datax, datay)\n",
    "    s,_ = model.score(datax_test, datay_test)\n",
    "    print(s)\n",
    "    scores.append(s)"
   ]
  },
  {
   "cell_type": "code",
   "execution_count": 28,
   "metadata": {
    "collapsed": false
   },
   "outputs": [
    {
     "name": "stdout",
     "output_type": "stream",
     "text": [
      "0.538521168754\n",
      "0.572552176506\n"
     ]
    }
   ],
   "source": [
    "datax, datay = load_usps(\"USPS/usps_train.txt\")\n",
    "X1, Y1 = filter_values(datax, datay, 9, 4)\n",
    "reg = Logistic_regression(15, 0.025)\n",
    "score_0_1 = validation_croisee(X1, Y1, reg,10)\n",
    "print(score_0_1)\n",
    "\n",
    "X2, Y2 = filter_values(datax, datay, 4, 9)\n",
    "reg = Logistic_regression(15, 0.025)\n",
    "score_1_0 = validation_croisee(X2, Y2, reg,10)\n",
    "print(score_1_0)"
   ]
  },
  {
   "cell_type": "code",
   "execution_count": 26,
   "metadata": {
    "collapsed": false
   },
   "outputs": [
    {
     "data": {
      "text/plain": [
       "652"
      ]
     },
     "execution_count": 26,
     "metadata": {},
     "output_type": "execute_result"
    }
   ],
   "source": [
    "(Y2 == -1).sum()"
   ]
  },
  {
   "cell_type": "markdown",
   "metadata": {},
   "source": [
    "Les scores sont tous pareil, maais le pas de gradient >= 0.1 se semble de poser les problems. Donc je vais travailler avec eps = 0.025"
   ]
  },
  {
   "cell_type": "code",
   "execution_count": 14,
   "metadata": {
    "collapsed": true
   },
   "outputs": [],
   "source": [
    "from cross_validation import validation_croisee\n",
    "datax, datay = load_usps(\"USPS/usps_train.txt\")\n",
    "X, Y = filter_values(datax, datay, 0, 1)"
   ]
  },
  {
   "cell_type": "code",
   "execution_count": 15,
   "metadata": {
    "collapsed": false
   },
   "outputs": [
    {
     "data": {
      "text/plain": [
       "0.99681611099606537"
      ]
     },
     "execution_count": 15,
     "metadata": {},
     "output_type": "execute_result"
    }
   ],
   "source": [
    "eps = 0.025\n",
    "reg = Logistic_regression(10, eps)\n",
    "score = validation_croisee(X, Y, reg,5)\n",
    "score"
   ]
  },
  {
   "cell_type": "code",
   "execution_count": 8,
   "metadata": {
    "collapsed": false
   },
   "outputs": [
    {
     "data": {
      "text/plain": [
       "0.11596086146200042"
      ]
     },
     "execution_count": 8,
     "metadata": {},
     "output_type": "execute_result"
    }
   ],
   "source": []
  },
  {
   "cell_type": "code",
   "execution_count": 7,
   "metadata": {
    "collapsed": false
   },
   "outputs": [
    {
     "name": "stdout",
     "output_type": "stream",
     "text": [
      "0.962726237316\n",
      "0.998180782771\n"
     ]
    },
    {
     "name": "stderr",
     "output_type": "stream",
     "text": [
      "/Users/samutamminen/Documents/Study/Sorbonne/S2/ARF/TME/TME3/Logistic_regression.py:16: RuntimeWarning: overflow encountered in exp\n",
      "  d_W[i] = -sum([-(2 * Y[j] - 1) * X[j, i] * (1 / (1 + np.exp(-(2 * Y[j] - 1) * np.dot(W.T, X[j])))) for j in range(len(X))])\n",
      "/Users/samutamminen/Documents/Study/Sorbonne/S2/ARF/TME/TME3/Logistic_regression.py:11: RuntimeWarning: overflow encountered in exp\n",
      "  return -sum([np.log(1 + np.exp(-(2 * Y[i] - 1) * np.dot(W.T, X[i]))) for i in range(len(X))])\n"
     ]
    },
    {
     "name": "stdout",
     "output_type": "stream",
     "text": [
      "0.991355353075\n",
      "0.992727272727\n",
      "0.983180782771\n"
     ]
    }
   ],
   "source": [
    "results = []\n",
    "for eps in np.linspace(0.001, 0.1, 5):\n",
    "    reg = Logistic_regression(10, eps)\n",
    "    score = validation_croisee(datax, datay, reg,5)\n",
    "    print(score)\n",
    "    results.append(score)"
   ]
  },
  {
   "cell_type": "code",
   "execution_count": 29,
   "metadata": {
    "collapsed": false
   },
   "outputs": [
    {
     "name": "stdout",
     "output_type": "stream",
     "text": [
      "0\n",
      "1\n",
      "2\n",
      "3\n",
      "4\n",
      "5\n",
      "6\n",
      "7\n",
      "8\n",
      "9\n"
     ]
    },
    {
     "data": {
      "image/png": "[encoded data removed]",
      "text/plain": [
       "<matplotlib.figure.Figure at 0x10a88dc18>"
      ]
     },
     "metadata": {},
     "output_type": "display_data"
    }
   ],
   "source": [
    "eps = 0.025\n",
    "results_nb1vs1 = np.zeros((10,10))\n",
    "results_rl = np.zeros((10,10))\n",
    "datax, datay = load_usps(\"USPS/usps_train.txt\")\n",
    "for i in range(10):\n",
    "    print(i)\n",
    "    for j in range(10):\n",
    "        if i == j:\n",
    "            #results_nb1vs1[i,j] = 1\n",
    "            results_rl[i,j] = 1\n",
    "        else:\n",
    "            X, Y = filter_values(datax, datay, i, j)\n",
    "            reg = Logistic_regression(15, eps)\n",
    "            #clf = NaiveBayes_classifier()\n",
    "            results_rl[i,j] = validation_croisee(X, Y, reg,10)\n",
    "            #results_nb1vs1[i,j] = validation_croisee(X, Y, clf,10)\n",
    "            \n",
    "plt.imshow(results_rl)\n",
    "plt.colorbar()\n",
    "plt.show()"
   ]
  },
  {
   "cell_type": "code",
   "execution_count": 112,
   "metadata": {
    "collapsed": false
   },
   "outputs": [],
   "source": [
    "plt.figure()\n",
    "plt.imshow(results_nb1vs1)\n",
    "plt.ylabel(\"classe -1\")\n",
    "plt.xlabel(\"classe 1\")\n",
    "plt.colorbar()\n",
    "plt.savefig('../compte_rendu/TME1_6/images/tme3/nb_one_vs_one.png')"
   ]
  },
  {
   "cell_type": "code",
   "execution_count": 30,
   "metadata": {
    "collapsed": false
   },
   "outputs": [],
   "source": [
    "plt.imshow(results_rl)\n",
    "plt.ylabel(\"classe -1\")\n",
    "plt.xlabel(\"classe 1\")\n",
    "plt.colorbar()\n",
    "plt.savefig('../compte_rendu/TME1_6/images/tme3/logistic_one_vs_one.png')"
   ]
  },
  {
   "cell_type": "code",
   "execution_count": 34,
   "metadata": {
    "collapsed": false
   },
   "outputs": [],
   "source": [
    "plt.hist(datay)\n",
    "plt.ylabel(\"Occurence\")\n",
    "plt.xlabel(\"Nombre\")\n",
    "plt.savefig('../compte_rendu/TME1_6/images/tme3/USPS_occurences.png')"
   ]
  },
  {
   "cell_type": "code",
   "execution_count": 36,
   "metadata": {
    "collapsed": true
   },
   "outputs": [],
   "source": [
    "eps = 0.025\n",
    "results = []\n",
    "datax, datay = load_usps(\"USPS/usps_train.txt\")\n",
    "for i in range(10):\n",
    "    X, Y = one_againt_others(datax, datay, i)\n",
    "    reg = Logistic_regression(10, eps)\n",
    "    score = validation_croisee(X, Y, reg,5)\n",
    "    results.append(score)\n",
    "            "
   ]
  },
  {
   "cell_type": "code",
   "execution_count": 107,
   "metadata": {
    "collapsed": false
   },
   "outputs": [],
   "source": [
    "plt.plot(np.arange(10),results, label=\"Regression logistique\")\n",
    "plt.plot(np.arange(10),results_nb, label=\"Naif Bayes\")\n",
    "plt.title(\"Un contre les autres\")\n",
    "plt.xlabel(\"Nombre\")\n",
    "plt.ylabel(\"Precision\")\n",
    "axes = plt.gca()\n",
    "axes.set_ylim([0.4,1])\n",
    "plt.xticks(np.arange(10))\n",
    "plt.legend()\n",
    "plt.savefig('../compte_rendu/TME1_6/images/tme3/USPS_one_vs_all.png')"
   ]
  },
  {
   "cell_type": "code",
   "execution_count": 98,
   "metadata": {
    "collapsed": false
   },
   "outputs": [
    {
     "data": {
      "image/png": "[encoded data removed]",
      "text/plain": [
       "<matplotlib.figure.Figure at 0x1115e1be0>"
      ]
     },
     "metadata": {},
     "output_type": "display_data"
    }
   ],
   "source": [
    "from NaiveBayes_classifier import NaiveBayes_classifier\n",
    "results_nb = []\n",
    "datax, datay = load_usps(\"USPS/usps_train.txt\")\n",
    "for i in range(10):\n",
    "    X, Y = one_againt_others(datax, datay, i)\n",
    "    clf = NaiveBayes_classifier()\n",
    "    score = validation_croisee(X, Y, clf,5)\n",
    "    results_nb.append(score)\n",
    "\n",
    "plt.plot(np.arange(10),results_nb)\n",
    "plt.title(\"Un contre les autres - classificateur Naif Bayes\")\n",
    "plt.xlabel(\"Nombre\")\n",
    "plt.ylabel(\"Precision\")\n",
    "plt.xticks(np.arange(10))\n",
    "plt.show()\n",
    "#plt.savefig('../compte_rendu/TME1_6/images/tme3/USPS_one_vs_all_nb.png')"
   ]
  },
  {
   "cell_type": "code",
   "execution_count": 103,
   "metadata": {
    "collapsed": false
   },
   "outputs": [
    {
     "data": {
      "text/plain": [
       "0.89999955810912069"
      ]
     },
     "execution_count": 103,
     "metadata": {},
     "output_type": "execute_result"
    }
   ],
   "source": [
    "np.mean(results)"
   ]
  }
 ],
 "metadata": {
  "anaconda-cloud": {},
  "kernelspec": {
   "display_name": "Python [conda root]",
   "language": "python",
   "name": "conda-root-py"
  },
  "language_info": {
   "codemirror_mode": {
    "name": "ipython",
    "version": 3
   },
   "file_extension": ".py",
   "mimetype": "text/x-python",
   "name": "python",
   "nbconvert_exporter": "python",
   "pygments_lexer": "ipython3",
   "version": "3.5.4"
  }
 },
 "nbformat": 4,
 "nbformat_minor": 2
}
