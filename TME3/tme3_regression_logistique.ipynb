{
 "cells": [
  {
   "cell_type": "code",
   "execution_count": null,
   "metadata": {},
   "outputs": [],
   "source": [
    "import numpy as np\n",
    "from Logistic_regression import Logistic_regression\n",
    "from utils import filter_values, load_usps, display_image\n",
    "%load_ext autoreload\n",
    "%autoreload 2"
   ]
  },
  {
   "cell_type": "code",
   "execution_count": null,
   "metadata": {},
   "outputs": [],
   "source": [
    "datax, datay = load_usps(\"USPS/usps_train.txt\",sample=400)\n",
    "datax_test, datay_test = load_usps(\"USPS/usps_test.txt\", sample=200)\n",
    "datax, datay = filter_values(datax, datay, 0, 1)\n",
    "datax_test, datay_test = filter_values(datax_test, datay_test, 0, 1)"
   ]
  },
  {
   "cell_type": "code",
   "execution_count": null,
   "metadata": {},
   "outputs": [],
   "source": [
    "datay.shape"
   ]
  },
  {
   "cell_type": "code",
   "execution_count": null,
   "metadata": {},
   "outputs": [],
   "source": [
    "reg = Logistic_regression(10, 0.5)"
   ]
  },
  {
   "cell_type": "code",
   "execution_count": null,
   "metadata": {},
   "outputs": [],
   "source": [
    "model = reg.fit(datax, datay)"
   ]
  },
  {
   "cell_type": "code",
   "execution_count": null,
   "metadata": {},
   "outputs": [],
   "source": [
    "np.count_nonzero(model.predict(datax_test) == datay_test) / datax_test.s"
   ]
  },
  {
   "cell_type": "code",
   "execution_count": null,
   "metadata": {},
   "outputs": [],
   "source": [
    "scores = []\n",
    "for eps in np.linspace(0.001, 0.1, 5):\n",
    "    print(eps)\n",
    "    reg = Logistic_regression(10, eps)\n",
    "    model = reg.fit(datax, datay)\n",
    "    s,_ = model.score(datax_test, datay_test)\n",
    "    print(s)\n",
    "    scores.append(s)"
   ]
  },
  {
   "cell_type": "markdown",
   "metadata": {},
   "source": [
    "Les scores sont tous pareil, maais le pas de gradient >= 0.1 se semble de poser les problems. Donc je vais travailler avec eps = 0.025"
   ]
  },
  {
   "cell_type": "code",
   "execution_count": null,
   "metadata": {},
   "outputs": [],
   "source": [
    "from cross_validation import validation_croisee"
   ]
  },
  {
   "cell_type": "code",
   "execution_count": null,
   "metadata": {},
   "outputs": [],
   "source": [
    "datax, datay = load_usps(\"USPS/usps_train.txt\",sample=1000)\n",
    "datax, datay = filter_values(datax, datay, 0, 1)"
   ]
  },
  {
   "cell_type": "code",
   "execution_count": null,
   "metadata": {},
   "outputs": [],
   "source": [
    "eps = 0.025\n",
    "reg = Logistic_regression(20, eps)\n",
    "score = validation_croisee(datax, datay, reg,5)\n",
    "print(score)"
   ]
  },
  {
   "cell_type": "code",
   "execution_count": null,
   "metadata": {},
   "outputs": [],
   "source": [
    "eps = 0.025\n",
    "reg = Logistic_regression(20, eps)\n",
    "model = reg.fit(datax, datay)\n",
    "s, labels = model.score(datax_test, datay_test)\n",
    "print(s)"
   ]
  },
  {
   "cell_type": "code",
   "execution_count": null,
   "metadata": {},
   "outputs": [],
   "source": []
  }
 ],
 "metadata": {
  "anaconda-cloud": {},
  "kernelspec": {
   "display_name": "Python [conda root]",
   "language": "python",
   "name": "conda-root-py"
  },
  "language_info": {
   "codemirror_mode": {
    "name": "ipython",
    "version": 3
   },
   "file_extension": ".py",
   "mimetype": "text/x-python",
   "name": "python",
   "nbconvert_exporter": "python",
   "pygments_lexer": "ipython3"
  }
 },
 "nbformat": 4,
 "nbformat_minor": 2
}
