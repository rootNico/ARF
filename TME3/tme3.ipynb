{
 "cells": [
  {
   "cell_type": "markdown",
   "metadata": {},
   "source": [
    "# TME 3 - Descente de gradient"
   ]
  },
  {
   "cell_type": "markdown",
   "metadata": {},
   "source": [
    "### Algorithme de descente de gradient\n",
    "x t+1 = x t − \u000f ∗ ∇f(x t )."
   ]
  },
  {
   "cell_type": "code",
   "execution_count": null,
   "metadata": {},
   "outputs": [],
   "source": [
    "import numpy as np\n",
    "import matplotlib.pyplot as plt"
   ]
  },
  {
   "cell_type": "code",
   "execution_count": null,
   "metadata": {},
   "outputs": [],
   "source": [
    "def optimize(fonc,dfonc,xinit,eps,max_iter):\n",
    "    x_histo = []\n",
    "    f_histo = []\n",
    "    grad_histo = []\n",
    "    dernier = xinit\n",
    "    for i in range(max_iter):\n",
    "        x_histo.append(dernier - (eps * dfonc(dernier)))\n",
    "        f_histo.append(fonc(dernier))\n",
    "        grad_histo.append(dfonc(dernier))\n",
    "        dernier = x_histo[i]\n",
    "    return (np.array(x_histo), np.array(f_histo), np.array(grad_histo))"
   ]
  },
  {
   "cell_type": "markdown",
   "metadata": {},
   "source": [
    "### Tests\n",
    "f(x) = x cos(x)\n",
    "\n",
    "f(x)' = cos(x) - x sin(x)"
   ]
  },
  {
   "cell_type": "code",
   "execution_count": null,
   "metadata": {},
   "outputs": [],
   "source": [
    "def fonc(x):\n",
    "    return x * np.cos(x)\n",
    "\n",
    "def dfonc(x):\n",
    "    return np.cos(x) - x * np.sin(x)\n",
    "\n",
    "def fonc2(x):\n",
    "    return -np.log(x) + x**2\n",
    "\n",
    "def dfonc2(x):\n",
    "    return -1/x + 2*x"
   ]
  },
  {
   "cell_type": "markdown",
   "metadata": {},
   "source": [
    "## f(x) = x cos(x)"
   ]
  },
  {
   "cell_type": "code",
   "execution_count": null,
   "metadata": {},
   "outputs": [],
   "source": [
    "def visualise1d(params, f, eps, xr):\n",
    "    x_histo,f_histo,grad_histo = params\n",
    "    \n",
    "    plt.title(eps)\n",
    "    plt.plot(xr, [f(x) for x in xr])\n",
    "    plt.plot(x_histo, f_histo)\n",
    "    \n",
    "    plt.show()"
   ]
  },
  {
   "cell_type": "code",
   "execution_count": null,
   "metadata": {},
   "outputs": [],
   "source": [
    "xr = np.linspace(-1,5,1000)\n",
    "explication = [', le pas de gradient trop pétit', ', le pas assez optimale', ', trop grande']\n",
    "for i,eps in enumerate([-0.1, 0.05,0.6]):\n",
    "    visualise1d(optimize(fonc, dfonc, 1, eps, 50), fonc, str(eps) + explication[i], xr)\n",
    "\n",
    "x_histo,f_histo,grad_histo = optimize(fonc, dfonc, 1, 0.05, 50)\n",
    "optimal = x_histo[f_histo.argmin()]\n",
    "print(\"f optimal %f à x=%f\" % (fonc(optimal),optimal))\n",
    "plt.figure()\n",
    "plt.plot(range(len(x_histo)), [np.log(np.linalg.norm(x - optimal)) for x in x_histo])\n",
    "plt.show()\n"
   ]
  },
  {
   "cell_type": "code",
   "execution_count": null,
   "metadata": {},
   "outputs": [],
   "source": []
  },
  {
   "cell_type": "markdown",
   "metadata": {},
   "source": [
    "## f(x)' = cos(x) - x sin(x)"
   ]
  },
  {
   "cell_type": "code",
   "execution_count": null,
   "metadata": {},
   "outputs": [],
   "source": [
    "xr = np.linspace(0,5,1000)\n",
    "explication = [', le pas de gradient trop pétit', ', le pas assez optimale', ', trop grande']\n",
    "for i,eps in enumerate([0.01, 0.07,0.5]):\n",
    "    visualise1d(optimize(fonc2, dfonc2, 2, eps, 30), fonc2, str(eps) + explication[i], xr)\n",
    "\n",
    "x_histo,f_histo,grad_histo = optimize(fonc2, dfonc2, 2, 0.07, 30)\n",
    "optimal = x_histo[f_histo.argmin()]\n",
    "print(\"f optimal %f à x=%f\" % (fonc2(optimal),optimal))\n",
    "    \n",
    "plt.figure()\n",
    "plt.plot(range(len(x_histo)), [np.log(np.linalg.norm(x - optimal)) for x in x_histo])\n",
    "plt.show()"
   ]
  },
  {
   "cell_type": "code",
   "execution_count": null,
   "metadata": {},
   "outputs": [],
   "source": []
  },
  {
   "cell_type": "code",
   "execution_count": null,
   "metadata": {},
   "outputs": [],
   "source": [
    "import numpy as np\n",
    "from numpy import random\n",
    "import matplotlib.pyplot as plt\n",
    "from matplotlib import cm\n",
    "from mpl_toolkits.mplot3d import Axes3D\n",
    "\n",
    "def make_grid(xmin=-5,xmax=5,ymin=-5,ymax=5,step=20,data=None):\n",
    "    \"\"\" Cree une grille sous forme de matrice 2d de la liste des points\n",
    "    :return: une matrice 2d contenant les points de la grille, la liste x, la liste y\n",
    "    \"\"\"\n",
    "    if data is not None:\n",
    "        xmax,xmin,ymax,ymin = np.max(data[:,0]),np.min(data[:,0]),\\\n",
    "                              np.max(data[:,1]),np.min(data[:,1])\n",
    "    x,y = np.meshgrid(np.arange(xmin,xmax,(xmax-xmin)*1./step),\n",
    "                      np.arange(ymin,ymax,(ymax-ymin)*1./step))\n",
    "    grid=np.c_[x.ravel(),y.ravel()]\n",
    "    return grid, x, y\n",
    "\n",
    "def load_usps(filename):\n",
    "    with open(filename,\"r\") as f:\n",
    "        f.readline()\n",
    "        data =[ [float(x) for x in l.split()] for l in f if len(l.split())>2]\n",
    "    tmp = np.array(data)\n",
    "    return tmp[:,1:],tmp[:,0].astype(int)\n",
    "\n",
    "dt=np.float\n",
    "\n",
    "fonc3 = lambda x: 100*(x[1] - x[0]**2)**2 + (1-x[0])**2\n",
    "dfonc3 = lambda x: np.array([2*(200*x[0]**3 - 200*x[0]*x[1] + x[0] - 1), 200*(x[1]-x[0]**2)], dtype=dt)\n",
    "\n",
    "x_histo3,f_histo3,grad_histo3 = optimize(fonc3, dfonc3, np.array([0,0], dtype=dt), 0.004, 300)\n",
    "\n",
    "mafonction = lambda xr : np.array([fonc3(x) for x in xr])\n",
    "grid,xx,yy = make_grid(-1,3,-1,3,20)\n",
    "plt.figure()\n",
    "plt.contourf(xx,yy,mafonction(grid).reshape(xx.shape))\n",
    "\n",
    "x = x_histo3[:,0]\n",
    "y = x_histo3[:,1]\n",
    "\n",
    "plt.plot(x,y)\n",
    "\n",
    "# minimum selon Wolframalpha\n",
    "plt.plot([1], [1], marker='o', markersize=5, color=\"red\")\n",
    "\n",
    "fig = plt.figure()\n",
    "ax = fig.gca(projection='3d')\n",
    "ax.view_init(30, 120)\n",
    "surf = ax.plot_surface(xx, yy, mafonction(grid).reshape(xx.shape),rstride=1,cstride=1,\\\n",
    "cmap=cm.gist_rainbow, linewidth=0, antialiased=False)\n",
    "fig.colorbar(surf)\n",
    "plt.show()\n",
    "\n",
    "optimal = x_histo3[f_histo3.argmin()]\n",
    "print(\"f optimal %s à x=%s\" % (fonc2(optimal),optimal))"
   ]
  },
  {
   "cell_type": "code",
   "execution_count": null,
   "metadata": {},
   "outputs": [],
   "source": []
  }
 ],
 "metadata": {
  "anaconda-cloud": {},
  "kernelspec": {
   "display_name": "Python [conda root]",
   "language": "python",
   "name": "conda-root-py"
  },
  "language_info": {
   "codemirror_mode": {
    "name": "ipython",
    "version": 3
   },
   "file_extension": ".py",
   "mimetype": "text/x-python",
   "name": "python",
   "nbconvert_exporter": "python",
   "pygments_lexer": "ipython3"
  }
 },
 "nbformat": 4,
 "nbformat_minor": 2
}
