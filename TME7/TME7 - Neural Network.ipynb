{
 "cells": [
  {
   "cell_type": "markdown",
   "metadata": {},
   "source": [
    "# Reseaux de neurone\n"
   ]
  },
  {
   "cell_type": "code",
   "execution_count": 77,
   "metadata": {
    "collapsed": false
   },
   "outputs": [
    {
     "name": "stdout",
     "output_type": "stream",
     "text": [
      "The autoreload extension is already loaded. To reload it, use:\n",
      "  %reload_ext autoreload\n"
     ]
    }
   ],
   "source": [
    "import numpy as np\n",
    "from Module import ModuleLineaire, FASigmoide, MSELoss\n",
    "from utils import load_usps, display_image, filter_values\n",
    "%load_ext autoreload\n",
    "%autoreload 2"
   ]
  },
  {
   "cell_type": "code",
   "execution_count": 6,
   "metadata": {
    "collapsed": false
   },
   "outputs": [
    {
     "data": {
      "text/plain": [
       "array([[ 0.],\n",
       "       [ 0.],\n",
       "       [ 0.],\n",
       "       [ 0.],\n",
       "       [ 0.]])"
      ]
     },
     "execution_count": 6,
     "metadata": {},
     "output_type": "execute_result"
    }
   ],
   "source": [
    "X = [[1,2,-1,1,2]]\n",
    "\n",
    "nn = ModuleLineaire(5, 1)\n",
    "nn.forward(np.array(X[0]))\n",
    "nn._gradient"
   ]
  },
  {
   "cell_type": "code",
   "execution_count": 2,
   "metadata": {
    "collapsed": false
   },
   "outputs": [],
   "source": [
    "all_train_X, all_train_Y = load_usps('USPS/USPS_train.txt')\n",
    "train_X,train_Y = filter_values(all_train_X,all_train_Y, 0, 1)\n",
    "\n",
    "all_test_X, all_test_Y = load_usps('USPS/USPS_test.txt')\n",
    "test_X,test_Y = filter_values(all_test_X,all_test_Y, 0, 1)"
   ]
  },
  {
   "cell_type": "code",
   "execution_count": 32,
   "metadata": {
    "collapsed": false
   },
   "outputs": [
    {
     "data": {
      "text/plain": [
       "array([ 1.,  0.])"
      ]
     },
     "execution_count": 32,
     "metadata": {},
     "output_type": "execute_result"
    }
   ],
   "source": []
  },
  {
   "cell_type": "code",
   "execution_count": 127,
   "metadata": {
    "collapsed": false
   },
   "outputs": [
    {
     "name": "stdout",
     "output_type": "stream",
     "text": [
      "[-0.84796243  0.42521264]\n",
      "input : (2, 1)\n",
      "delta : (2, 1)\n",
      "(2, 2)\n",
      "(2, 2)\n",
      "------\n",
      "input : (16, 1)\n",
      "delta : (4, 1)\n",
      "(16, 2)\n",
      "(16, 4)\n",
      "------\n"
     ]
    },
    {
     "ename": "ValueError",
     "evalue": "operands could not be broadcast together with shapes (16,2) (16,4) (16,2) ",
     "output_type": "error",
     "traceback": [
      "\u001b[0;31m---------------------------------------------------------------------------\u001b[0m",
      "\u001b[0;31mValueError\u001b[0m                                Traceback (most recent call last)",
      "\u001b[0;32m<ipython-input-127-8a52489751be>\u001b[0m in \u001b[0;36m<module>\u001b[0;34m()\u001b[0m\n\u001b[1;32m     31\u001b[0m \u001b[0;34m\u001b[0m\u001b[0m\n\u001b[1;32m     32\u001b[0m     \u001b[0mdelta2\u001b[0m \u001b[0;34m=\u001b[0m \u001b[0mactivation\u001b[0m\u001b[0;34m.\u001b[0m\u001b[0mbackward_delta\u001b[0m\u001b[0;34m(\u001b[0m\u001b[0mmodule3\u001b[0m\u001b[0;34m.\u001b[0m\u001b[0mbackward_delta\u001b[0m\u001b[0;34m(\u001b[0m\u001b[0mz2\u001b[0m\u001b[0;34m,\u001b[0m \u001b[0mdelta3\u001b[0m\u001b[0;34m)\u001b[0m\u001b[0;34m,\u001b[0m \u001b[0mz3\u001b[0m\u001b[0;34m)\u001b[0m\u001b[0;34m\u001b[0m\u001b[0m\n\u001b[0;32m---> 33\u001b[0;31m     \u001b[0mmodule2\u001b[0m\u001b[0;34m.\u001b[0m\u001b[0mbackward_update_gradient\u001b[0m\u001b[0;34m(\u001b[0m\u001b[0ma1\u001b[0m\u001b[0;34m,\u001b[0m \u001b[0mdelta2\u001b[0m\u001b[0;34m)\u001b[0m\u001b[0;34m\u001b[0m\u001b[0m\n\u001b[0m\u001b[1;32m     34\u001b[0m \u001b[0;34m\u001b[0m\u001b[0m\n\u001b[1;32m     35\u001b[0m     \u001b[0mdelta1\u001b[0m \u001b[0;34m=\u001b[0m \u001b[0mactivation\u001b[0m\u001b[0;34m.\u001b[0m\u001b[0mbackward_delta\u001b[0m\u001b[0;34m(\u001b[0m\u001b[0mmodule2\u001b[0m\u001b[0;34m.\u001b[0m\u001b[0mbackward_delta\u001b[0m\u001b[0;34m(\u001b[0m\u001b[0mz1\u001b[0m\u001b[0;34m,\u001b[0m \u001b[0mdelta2\u001b[0m\u001b[0;34m)\u001b[0m\u001b[0;34m,\u001b[0m \u001b[0mz2\u001b[0m\u001b[0;34m)\u001b[0m\u001b[0;34m\u001b[0m\u001b[0m\n",
      "\u001b[0;32m/Users/samutamminen/Documents/Study/Sorbonne/S2/ARF/TME/TME7/Module.py\u001b[0m in \u001b[0;36mbackward_update_gradient\u001b[0;34m(self, input, delta)\u001b[0m\n\u001b[1;32m     66\u001b[0m         \u001b[0mprint\u001b[0m\u001b[0;34m(\u001b[0m\u001b[0mgradient_change\u001b[0m\u001b[0;34m.\u001b[0m\u001b[0mshape\u001b[0m\u001b[0;34m)\u001b[0m\u001b[0;34m\u001b[0m\u001b[0m\n\u001b[1;32m     67\u001b[0m         \u001b[0mprint\u001b[0m\u001b[0;34m(\u001b[0m\u001b[0;34m'------'\u001b[0m\u001b[0;34m)\u001b[0m\u001b[0;34m\u001b[0m\u001b[0m\n\u001b[0;32m---> 68\u001b[0;31m         \u001b[0mself\u001b[0m\u001b[0;34m.\u001b[0m\u001b[0m_gradient\u001b[0m \u001b[0;34m+=\u001b[0m \u001b[0mgradient_change\u001b[0m\u001b[0;34m\u001b[0m\u001b[0m\n\u001b[0m\u001b[1;32m     69\u001b[0m \u001b[0;34m\u001b[0m\u001b[0m\n\u001b[1;32m     70\u001b[0m     \u001b[0;32mdef\u001b[0m \u001b[0mbackward_delta\u001b[0m\u001b[0;34m(\u001b[0m\u001b[0mself\u001b[0m\u001b[0;34m,\u001b[0m \u001b[0minput\u001b[0m\u001b[0;34m,\u001b[0m \u001b[0mdelta\u001b[0m\u001b[0;34m)\u001b[0m\u001b[0;34m:\u001b[0m\u001b[0;34m\u001b[0m\u001b[0m\n",
      "\u001b[0;31mValueError\u001b[0m: operands could not be broadcast together with shapes (16,2) (16,4) (16,2) "
     ]
    }
   ],
   "source": [
    "pixels = 16*16\n",
    "hiddenlayer_size = 16\n",
    "output_size = 2\n",
    "gradient_step = 0.1\n",
    "\n",
    "batch_size = 16\n",
    "\n",
    "loss = MSELoss()\n",
    "activation = FASigmoide()\n",
    "module1 = ModuleLineaire(pixels, hiddenlayer_size)\n",
    "module2 = ModuleLineaire(hiddenlayer_size,output_size)\n",
    "module3 = ModuleLineaire(output_size, output_size)\n",
    "\n",
    "for i in range(train_X.shape[0]):\n",
    "    x = train_X[i]\n",
    "    y = train_Y[i]\n",
    "    #Forward pour obtenir l'erreur\n",
    "    a0 = x\n",
    "    z1 = module1.forward(a0)\n",
    "    a1 = activation.forward(z1)\n",
    "    z2 = module2.forward(a1)\n",
    "    a2 = activation.forward(z2)\n",
    "    z3 = module3.forward(a2)\n",
    "    a3 = activation.forward(z3)\n",
    "    \n",
    "    error = loss.backward(a3, y)\n",
    "    print(error)\n",
    "    #Backward\n",
    "    delta3 = activation.backward_delta(error, z3)\n",
    "    module3.backward_update_gradient(a2, delta3)\n",
    "    \n",
    "    delta2 = activation.backward_delta(module3.backward_delta(z2, delta3), z3)\n",
    "    module2.backward_update_gradient(a1, delta2)\n",
    "    \n",
    "    delta1 = activation.backward_delta(module2.backward_delta(z1, delta2), z2)\n",
    "    module1.backward_update_gradient(a0, delta1)\n",
    "    \n",
    "    if i % batch_size == 0:\n",
    "        module1.update_parameters(gradient_step)\n",
    "        module2.update_parameters(gradient_step)\n",
    "        module3.update_parameters(gradient_step)\n",
    "        module1.zero_grad()\n",
    "        module2.zero_grad()\n",
    "        module3.zero_grad()\n",
    "    "
   ]
  },
  {
   "cell_type": "code",
   "execution_count": 37,
   "metadata": {
    "collapsed": false
   },
   "outputs": [
    {
     "data": {
      "text/plain": [
       "0.48808346610824815"
      ]
     },
     "execution_count": 37,
     "metadata": {},
     "output_type": "execute_result"
    }
   ],
   "source": [
    "x = train_X[0]\n",
    "y = train_Y[0]\n",
    "#Forward pour obtenir l'erreur\n",
    "tmp = activation.forward(input_module.forward(x))\n",
    "tmp = activation.forward(hidden_module.forward(tmp))\n",
    "result = activation.forward(output_module.forward(tmp))\n",
    "error = loss.forward(result, y)\n",
    "error"
   ]
  },
  {
   "cell_type": "code",
   "execution_count": 118,
   "metadata": {
    "collapsed": false
   },
   "outputs": [
    {
     "data": {
      "text/plain": [
       "(16, 4)"
      ]
     },
     "execution_count": 118,
     "metadata": {},
     "output_type": "execute_result"
    }
   ],
   "source": [
    "delta = delta2\n",
    "input = a2\n",
    "delta = delta.reshape(-1,1)\n",
    "input = input.reshape(-1,1)\n",
    "np.dot(delta, input.T).T.shape"
   ]
  },
  {
   "cell_type": "code",
   "execution_count": 123,
   "metadata": {
    "collapsed": false
   },
   "outputs": [
    {
     "data": {
      "text/plain": [
       "array([[ 0.,  0.],\n",
       "       [ 0.,  0.]])"
      ]
     },
     "execution_count": 123,
     "metadata": {},
     "output_type": "execute_result"
    }
   ],
   "source": [
    "delta2"
   ]
  }
 ],
 "metadata": {
  "anaconda-cloud": {},
  "kernelspec": {
   "display_name": "Python [default]",
   "language": "python",
   "name": "python3"
  },
  "language_info": {
   "codemirror_mode": {
    "name": "ipython",
    "version": 3
   },
   "file_extension": ".py",
   "mimetype": "text/x-python",
   "name": "python",
   "nbconvert_exporter": "python",
   "pygments_lexer": "ipython3",
   "version": "3.5.4"
  }
 },
 "nbformat": 4,
 "nbformat_minor": 2
}
