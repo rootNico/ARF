{
 "cells": [
  {
   "cell_type": "markdown",
   "metadata": {},
   "source": [
    "# Reseaux de neurone\n"
   ]
  },
  {
   "cell_type": "code",
   "execution_count": 35,
   "metadata": {
    "collapsed": false
   },
   "outputs": [
    {
     "name": "stdout",
     "output_type": "stream",
     "text": [
      "The autoreload extension is already loaded. To reload it, use:\n",
      "  %reload_ext autoreload\n"
     ]
    }
   ],
   "source": [
    "import numpy as np\n",
    "from Module import ModuleLineaire, FASigmoide, MSELoss\n",
    "from utils import load_usps, display_image, filter_values\n",
    "%load_ext autoreload\n",
    "%autoreload 2"
   ]
  },
  {
   "cell_type": "code",
   "execution_count": 6,
   "metadata": {
    "collapsed": false
   },
   "outputs": [
    {
     "data": {
      "text/plain": [
       "array([[ 0.],\n",
       "       [ 0.],\n",
       "       [ 0.],\n",
       "       [ 0.],\n",
       "       [ 0.]])"
      ]
     },
     "execution_count": 6,
     "metadata": {},
     "output_type": "execute_result"
    }
   ],
   "source": [
    "X = [[1,2,-1,1,2]]\n",
    "\n",
    "nn = ModuleLineaire(5, 1)\n",
    "nn.forward(np.array(X[0]))\n",
    "nn._gradient"
   ]
  },
  {
   "cell_type": "code",
   "execution_count": 30,
   "metadata": {
    "collapsed": false
   },
   "outputs": [],
   "source": [
    "all_train_X, all_train_Y = load_usps('USPS/USPS_train.txt')\n",
    "train_X,train_Y = filter_values(all_train_X,all_train_Y, 0, 1)\n",
    "\n",
    "all_test_X, all_test_Y = load_usps('USPS/USPS_test.txt')\n",
    "test_X,test_Y = filter_values(all_test_X,all_test_Y, 0, 1)"
   ]
  },
  {
   "cell_type": "code",
   "execution_count": 32,
   "metadata": {
    "collapsed": false
   },
   "outputs": [
    {
     "data": {
      "text/plain": [
       "array([ 1.,  0.])"
      ]
     },
     "execution_count": 32,
     "metadata": {},
     "output_type": "execute_result"
    }
   ],
   "source": []
  },
  {
   "cell_type": "code",
   "execution_count": 64,
   "metadata": {
    "collapsed": false
   },
   "outputs": [
    {
     "name": "stdout",
     "output_type": "stream",
     "text": [
      "0.483499088413\n",
      "(2, 1)\n",
      "(2,)\n",
      "(16, 2)\n",
      "------\n",
      "(1,)\n",
      "(16, 1)\n",
      "(2, 16)\n",
      "(16, 16)\n",
      "------\n",
      "(2, 1)\n"
     ]
    },
    {
     "ename": "ValueError",
     "evalue": "operands could not be broadcast together with shapes (16,16) (2,1) (16,16) ",
     "output_type": "error",
     "traceback": [
      "\u001b[0;31m---------------------------------------------------------------------------\u001b[0m",
      "\u001b[0;31mValueError\u001b[0m                                Traceback (most recent call last)",
      "\u001b[0;32m<ipython-input-64-ee3b624a7b04>\u001b[0m in \u001b[0;36m<module>\u001b[0;34m()\u001b[0m\n\u001b[1;32m     27\u001b[0m     \u001b[0mdelta_i\u001b[0m \u001b[0;34m=\u001b[0m \u001b[0moutput_module\u001b[0m\u001b[0;34m.\u001b[0m\u001b[0mbackward_delta\u001b[0m\u001b[0;34m(\u001b[0m\u001b[0moutput_result\u001b[0m\u001b[0;34m,\u001b[0m \u001b[0mdelta_s\u001b[0m\u001b[0;34m)\u001b[0m \u001b[0;31m# input ???\u001b[0m\u001b[0;34m\u001b[0m\u001b[0m\n\u001b[1;32m     28\u001b[0m \u001b[0;34m\u001b[0m\u001b[0m\n\u001b[0;32m---> 29\u001b[0;31m     \u001b[0mhidden_module\u001b[0m\u001b[0;34m.\u001b[0m\u001b[0mbackward_update_gradient\u001b[0m\u001b[0;34m(\u001b[0m\u001b[0mhidden_result\u001b[0m\u001b[0;34m,\u001b[0m \u001b[0mdelta_i\u001b[0m\u001b[0;34m)\u001b[0m\u001b[0;34m\u001b[0m\u001b[0m\n\u001b[0m\u001b[1;32m     30\u001b[0m     \u001b[0mhidden_module\u001b[0m\u001b[0;34m.\u001b[0m\u001b[0mupdate_parameters\u001b[0m\u001b[0;34m(\u001b[0m\u001b[0mgradient_step\u001b[0m\u001b[0;34m)\u001b[0m\u001b[0;34m\u001b[0m\u001b[0m\n\u001b[1;32m     31\u001b[0m     \u001b[0mdelta_i\u001b[0m \u001b[0;34m=\u001b[0m \u001b[0mhidden_module\u001b[0m\u001b[0;34m.\u001b[0m\u001b[0mbackward_delta\u001b[0m\u001b[0;34m(\u001b[0m\u001b[0mhidden_result\u001b[0m\u001b[0;34m,\u001b[0m \u001b[0mdelta_i\u001b[0m\u001b[0;34m)\u001b[0m\u001b[0;34m\u001b[0m\u001b[0m\n",
      "\u001b[0;32m/Users/samutamminen/Documents/Study/Sorbonne/S2/ARF/TME/TME7/Module.py\u001b[0m in \u001b[0;36mbackward_update_gradient\u001b[0;34m(self, input, delta)\u001b[0m\n\u001b[1;32m     66\u001b[0m         \u001b[0mgradient_change\u001b[0m \u001b[0;34m=\u001b[0m \u001b[0mnp\u001b[0m\u001b[0;34m.\u001b[0m\u001b[0mdot\u001b[0m\u001b[0;34m(\u001b[0m\u001b[0mdelta\u001b[0m\u001b[0;34m,\u001b[0m \u001b[0minput\u001b[0m\u001b[0;34m)\u001b[0m\u001b[0;34m\u001b[0m\u001b[0m\n\u001b[1;32m     67\u001b[0m         \u001b[0mprint\u001b[0m\u001b[0;34m(\u001b[0m\u001b[0mgradient_change\u001b[0m\u001b[0;34m.\u001b[0m\u001b[0mshape\u001b[0m\u001b[0;34m)\u001b[0m\u001b[0;34m\u001b[0m\u001b[0m\n\u001b[0;32m---> 68\u001b[0;31m         \u001b[0mself\u001b[0m\u001b[0;34m.\u001b[0m\u001b[0m_gradient\u001b[0m \u001b[0;34m+=\u001b[0m \u001b[0mgradient_change\u001b[0m\u001b[0;34m\u001b[0m\u001b[0m\n\u001b[0m\u001b[1;32m     69\u001b[0m \u001b[0;34m\u001b[0m\u001b[0m\n\u001b[1;32m     70\u001b[0m     \u001b[0;32mdef\u001b[0m \u001b[0mbackward_delta\u001b[0m\u001b[0;34m(\u001b[0m\u001b[0mself\u001b[0m\u001b[0;34m,\u001b[0m \u001b[0minput\u001b[0m\u001b[0;34m,\u001b[0m \u001b[0mdelta\u001b[0m\u001b[0;34m)\u001b[0m\u001b[0;34m:\u001b[0m\u001b[0;34m\u001b[0m\u001b[0m\n",
      "\u001b[0;31mValueError\u001b[0m: operands could not be broadcast together with shapes (16,16) (2,1) (16,16) "
     ]
    }
   ],
   "source": [
    "pixels = 16*16\n",
    "hiddenlayer_size = 16\n",
    "output_size = 2\n",
    "gradient_step = 0.1\n",
    "\n",
    "loss = MSELoss()\n",
    "activation = FASigmoide()\n",
    "input_module = ModuleLineaire(pixels, hiddenlayer_size)\n",
    "hidden_module = ModuleLineaire(hiddenlayer_size,hiddenlayer_size)\n",
    "output_module = ModuleLineaire(hiddenlayer_size, output_size)\n",
    "\n",
    "for i in range(train_X.shape[0]):\n",
    "    x = train_X[i]\n",
    "    y = train_Y[i]\n",
    "    #Forward pour obtenir l'erreur\n",
    "    input_result = activation.forward(input_module.forward(x))\n",
    "    hidden_result = activation.forward(hidden_module.forward(tmp))\n",
    "    output_result = activation.forward(output_module.forward(tmp))\n",
    "    error = loss.forward(output_result, y)\n",
    "    print(error)\n",
    "    \n",
    "    #Backward\n",
    "    error_b = loss.backward(output_result, y)\n",
    "    delta_s = activation.backward_delta(output_result, error_b)\n",
    "    output_module.backward_update_gradient(output_result, delta_s) # input est quoi???\n",
    "    output_module.update_parameters(gradient_step)\n",
    "    delta_i = output_module.backward_delta(output_result, delta_s) # input ???\n",
    "    \n",
    "    hidden_module.backward_update_gradient(hidden_result, delta_i)\n",
    "    hidden_module.update_parameters(gradient_step)\n",
    "    delta_i = hidden_module.backward_delta(hidden_result, delta_i)\n",
    "    \n",
    "    input_module.backward_update_gradient(input_result, delta_i)\n",
    "    input_module.update_parameters(gradient_step)\n",
    "    "
   ]
  },
  {
   "cell_type": "code",
   "execution_count": 37,
   "metadata": {
    "collapsed": false
   },
   "outputs": [
    {
     "data": {
      "text/plain": [
       "0.48808346610824815"
      ]
     },
     "execution_count": 37,
     "metadata": {},
     "output_type": "execute_result"
    }
   ],
   "source": [
    "x = train_X[0]\n",
    "y = train_Y[0]\n",
    "#Forward pour obtenir l'erreur\n",
    "tmp = activation.forward(input_module.forward(x))\n",
    "tmp = activation.forward(hidden_module.forward(tmp))\n",
    "result = activation.forward(output_module.forward(tmp))\n",
    "error = loss.forward(result, y)\n",
    "error"
   ]
  }
 ],
 "metadata": {
  "anaconda-cloud": {},
  "kernelspec": {
   "display_name": "Python [default]",
   "language": "python",
   "name": "python3"
  },
  "language_info": {
   "codemirror_mode": {
    "name": "ipython",
    "version": 3
   },
   "file_extension": ".py",
   "mimetype": "text/x-python",
   "name": "python",
   "nbconvert_exporter": "python",
   "pygments_lexer": "ipython3",
   "version": "3.5.4"
  }
 },
 "nbformat": 4,
 "nbformat_minor": 2
}
