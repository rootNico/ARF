{
 "cells": [
  {
   "cell_type": "code",
   "execution_count": 114,
   "metadata": {
    "collapsed": false
   },
   "outputs": [
    {
     "name": "stdout",
     "output_type": "stream",
     "text": [
      "The autoreload extension is already loaded. To reload it, use:\n",
      "  %reload_ext autoreload\n"
     ]
    }
   ],
   "source": [
    "%load_ext autoreload\n",
    "%autoreload 2\n",
    "%matplotlib notebook\n",
    "from sklearn import linear_model, svm,model_selection\n",
    "from tme4_etu import Perceptron\n",
    "import sklearn\n",
    "from arftools import *\n",
    "import numpy as np\n",
    "import matplotlib.pyplot as plt\n",
    "from tme4_etu import load_usps\n",
    "\n",
    "trainx,trainy = load_usps(\"USPS/USPS_train.txt\")\n",
    "testx,testy = load_usps(\"USPS/USPS_test.txt\")"
   ]
  },
  {
   "cell_type": "code",
   "execution_count": 115,
   "metadata": {
    "collapsed": false
   },
   "outputs": [],
   "source": [
    "from MultiClassClassifier import MultiClassClassifier"
   ]
  },
  {
   "cell_type": "code",
   "execution_count": 143,
   "metadata": {
    "collapsed": false
   },
   "outputs": [
    {
     "name": "stdout",
     "output_type": "stream",
     "text": [
      "0.452914798206278\n"
     ]
    }
   ],
   "source": [
    "clf = MultiClassClassifier(lambda: sklearn.svm.SVC(probability=False))\n",
    "clf.fit(trainx, trainy)\n",
    "print(clf.score(testx,testy))"
   ]
  },
  {
   "cell_type": "code",
   "execution_count": 139,
   "metadata": {
    "collapsed": false
   },
   "outputs": [
    {
     "data": {
      "text/plain": [
       "0.15744892874937719"
      ]
     },
     "execution_count": 139,
     "metadata": {},
     "output_type": "execute_result"
    }
   ],
   "source": [
    "(prediction == testy).sum() / len(testy)"
   ]
  },
  {
   "cell_type": "code",
   "execution_count": 103,
   "metadata": {
    "collapsed": false
   },
   "outputs": [
    {
     "data": {
      "text/plain": [
       "2007"
      ]
     },
     "execution_count": 103,
     "metadata": {},
     "output_type": "execute_result"
    }
   ],
   "source": [
    "(prediction == 9).sum()"
   ]
  },
  {
   "cell_type": "code",
   "execution_count": 94,
   "metadata": {
    "collapsed": false
   },
   "outputs": [
    {
     "data": {
      "text/plain": [
       "177"
      ]
     },
     "execution_count": 94,
     "metadata": {},
     "output_type": "execute_result"
    }
   ],
   "source": [
    "(testy == 9).sum()"
   ]
  },
  {
   "cell_type": "code",
   "execution_count": 126,
   "metadata": {
    "collapsed": false
   },
   "outputs": [],
   "source": [
    "def test(result):\n",
    "    res = np.zeros(10)\n",
    "    results_pos = np.zeros(10)\n",
    "    for i in range(10):\n",
    "        for j in range(10):\n",
    "            r = result[i,j]\n",
    "            if r == -1:\n",
    "                res[i] += 0\n",
    "            if r == 1:\n",
    "                res[j] += 1\n",
    "    return res\n",
    "    #if(results_pos.max() > results_neg.max()):\n",
    "    #    return(results_pos.argmax())\n",
    "    #else:\n",
    "    #    return(results_neg.argmax())"
   ]
  },
  {
   "cell_type": "code",
   "execution_count": 50,
   "metadata": {
    "collapsed": false
   },
   "outputs": [
    {
     "data": {
      "text/plain": [
       "0.08819133034379671"
      ]
     },
     "execution_count": 50,
     "metadata": {},
     "output_type": "execute_result"
    }
   ],
   "source": [
    "prediction = np.zeros(res.shape[0])\n",
    "for i in range(res.shape[0]):\n",
    "    #prediction[i] = res[i].sum(axis=1).argmax()\n",
    "    prediction[i] = test(res[i])\n",
    "np.count_nonzero(prediction == testy) / len(testy)"
   ]
  }
 ],
 "metadata": {
  "kernelspec": {
   "display_name": "Python [conda root]",
   "language": "python",
   "name": "conda-root-py"
  },
  "language_info": {
   "codemirror_mode": {
    "name": "ipython",
    "version": 3
   },
   "file_extension": ".py",
   "mimetype": "text/x-python",
   "name": "python",
   "nbconvert_exporter": "python",
   "pygments_lexer": "ipython3",
   "version": "3.5.4"
  }
 },
 "nbformat": 4,
 "nbformat_minor": 2
}
