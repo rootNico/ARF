{
 "cells": [
  {
   "cell_type": "code",
   "execution_count": 1,
   "metadata": {
    "collapsed": false
   },
   "outputs": [],
   "source": [
    "%matplotlib notebook\n",
    "%load_ext autoreload\n",
    "%autoreload 2\n",
    "from sklearn import linear_model, svm,model_selection\n",
    "import sklearn\n",
    "from arftools import *\n",
    "import numpy as np\n",
    "import matplotlib.pyplot as plt\n",
    "from StringKernel import StringKernel\n",
    "from cross_validation import validation_croisee"
   ]
  },
  {
   "cell_type": "code",
   "execution_count": 2,
   "metadata": {
    "collapsed": true
   },
   "outputs": [],
   "source": [
    "import pandas as pd\n",
    "import nltk"
   ]
  },
  {
   "cell_type": "code",
   "execution_count": 3,
   "metadata": {
    "collapsed": false
   },
   "outputs": [],
   "source": [
    "data = pd.read_json('data/smaller_dataset.json')"
   ]
  },
  {
   "cell_type": "code",
   "execution_count": 4,
   "metadata": {
    "collapsed": true
   },
   "outputs": [],
   "source": [
    "def generate_sample(authors):\n",
    "    authors_sample = authors['reviewerID'].sample(2)\n",
    "    subset = authors[authors['reviewerID'].isin(authors_sample)]\n",
    "    X = subset['reviewText']\n",
    "    Y = subset['reviewerID']\n",
    "    short_X = []\n",
    "    for text in X:\n",
    "        short_X.append(text[0:160])\n",
    "    return (np.array(short_X),Y)"
   ]
  },
  {
   "cell_type": "code",
   "execution_count": 8,
   "metadata": {
    "collapsed": false
   },
   "outputs": [],
   "source": [
    "authors = data[data.groupby(by='reviewerID')['reviewerID'].transform(\"count\") == 10]\n",
    "samples = [generate_sample(authors)]# for _ in range(3)]<"
   ]
  },
  {
   "cell_type": "code",
   "execution_count": 40,
   "metadata": {
    "collapsed": false
   },
   "outputs": [
    {
     "data": {
      "text/plain": [
       "(50,)"
      ]
     },
     "execution_count": 40,
     "metadata": {},
     "output_type": "execute_result"
    }
   ],
   "source": [
    "samples[0][1].shape"
   ]
  },
  {
   "cell_type": "code",
   "execution_count": 7,
   "metadata": {
    "collapsed": false
   },
   "outputs": [],
   "source": [
    "subset = authors[authors['reviewerID'].isin(authors_sample)]\n",
    "X = subset['reviewText']\n",
    "Y = subset['reviewerID']\n",
    "X_train = X[0:20]\n",
    "Y_train = Y[0:20]\n",
    "X_test = X[20:]\n",
    "Y_test = Y[20:]"
   ]
  },
  {
   "cell_type": "code",
   "execution_count": 9,
   "metadata": {
    "collapsed": true
   },
   "outputs": [],
   "source": [
    "def train_and_test(X_train, Y_train, X_test, lambda_param):\n",
    "    kernel = StringKernel(lambda_param=lambda_param)\n",
    "    precomputed_gram_matrix = kernel.build_kernel(X_train,X_train)\n",
    "    svm_instance = sklearn.svm.SVC(kernel=\"precomputed\")\n",
    "    svm_instance.fit(precomputed_gram_matrix,Y_train)\n",
    "\n",
    "    return svm_instance.predict(kernel.build_kernel(X_test,X_test))\n",
    "\n",
    "def get_vocab(X):\n",
    "    vocab = set()\n",
    "    for text in X:\n",
    "        for word in nltk.word_tokenize(text):\n",
    "            vocab.add(word)\n",
    "    return vocab"
   ]
  },
  {
   "cell_type": "code",
   "execution_count": null,
   "metadata": {
    "collapsed": false
   },
   "outputs": [
    {
     "name": "stdout",
     "output_type": "stream",
     "text": [
      "lambda : 0.1\n",
      "0.7\n",
      "lambda : 0.3\n",
      "0.7\n",
      "lambda : 0.5\n",
      "0.7\n",
      "lambda : 0.7\n",
      "0.7\n",
      "lambda : 0.9\n"
     ]
    }
   ],
   "source": [
    "N = 10\n",
    "results = []\n",
    "lambdas = [0.1,0.3,0.5,0.7,0.9,0.95,1]\n",
    "for i,l in enumerate(lambdas):\n",
    "    print('lambda : ' + str(l))\n",
    "    res = []\n",
    "    for X,Y in samples:\n",
    "        prediction = train_and_test(X[0:N], Y[0:N], X[N:], l)\n",
    "        prec = (prediction == Y[N:]).sum() / N\n",
    "        res.append(prec)\n",
    "    mean = np.array(res).mean()\n",
    "    print(mean)\n",
    "    results.append(mean)"
   ]
  },
  {
   "cell_type": "code",
   "execution_count": 60,
   "metadata": {
    "collapsed": false
   },
   "outputs": [
    {
     "data": {
      "text/plain": [
       "array(['a', '1'],\n",
       "      dtype='<U1')"
      ]
     },
     "execution_count": 60,
     "metadata": {},
     "output_type": "execute_result"
    }
   ],
   "source": [
    "b = np.array((3,1), dtype=str)\n",
    "b[0] = 'asd'\n",
    "b"
   ]
  },
  {
   "cell_type": "code",
   "execution_count": 14,
   "metadata": {
    "collapsed": true
   },
   "outputs": [],
   "source": [
    "from collections import Counter"
   ]
  },
  {
   "cell_type": "code",
   "execution_count": 87,
   "metadata": {
    "collapsed": false
   },
   "outputs": [],
   "source": []
  },
  {
   "cell_type": "code",
   "execution_count": 78,
   "metadata": {
    "collapsed": false
   },
   "outputs": [
    {
     "data": {
      "text/plain": [
       "array([[ 1.]])"
      ]
     },
     "execution_count": 78,
     "metadata": {},
     "output_type": "execute_result"
    }
   ],
   "source": [
    "kernel = StringKernel(lambda_param=1, k=1)\n",
    "kernel.build_kernel(testi,testi)"
   ]
  },
  {
   "cell_type": "code",
   "execution_count": 53,
   "metadata": {
    "collapsed": false
   },
   "outputs": [
    {
     "data": {
      "text/plain": [
       "array([ 'I find it highly interesting that Angela, the one Christian character on this show, is almost always portrayed in a negative light.  I understand that Angela is a bit judgemental of those who do not share her faith.  I know that rubs a lot of people the wrong way.  But they do not have to make her out to be a total shrew.Do I laugh at times while watching this often sleazy show?  Of course, there are many clever and laugh-out-loud moments.  I like laughing at male idiots as much as my neo-femme '],\n",
       "      dtype='<U500')"
      ]
     },
     "execution_count": 53,
     "metadata": {},
     "output_type": "execute_result"
    }
   ],
   "source": [
    "testi = np.array([X.values[0][0:500]])\n",
    "testi"
   ]
  },
  {
   "cell_type": "code",
   "execution_count": 79,
   "metadata": {
    "collapsed": false
   },
   "outputs": [
    {
     "data": {
      "text/plain": [
       "(20,)"
      ]
     },
     "execution_count": 79,
     "metadata": {},
     "output_type": "execute_result"
    }
   ],
   "source": [
    "X.shape"
   ]
  }
 ],
 "metadata": {
  "anaconda-cloud": {},
  "kernelspec": {
   "display_name": "Python [conda root]",
   "language": "python",
   "name": "conda-root-py"
  },
  "language_info": {
   "codemirror_mode": {
    "name": "ipython",
    "version": 3
   },
   "file_extension": ".py",
   "mimetype": "text/x-python",
   "name": "python",
   "nbconvert_exporter": "python",
   "pygments_lexer": "ipython3",
   "version": "3.5.4"
  }
 },
 "nbformat": 4,
 "nbformat_minor": 2
}
