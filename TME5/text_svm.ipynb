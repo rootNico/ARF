{
 "cells": [
  {
   "cell_type": "code",
   "execution_count": 52,
   "metadata": {
    "collapsed": true
   },
   "outputs": [],
   "source": [
    "%matplotlib notebook\n",
    "%load_ext autoreload\n",
    "%autoreload 2\n",
    "from sklearn import linear_model, svm,model_selection\n",
    "import sklearn\n",
    "from arftools import *\n",
    "import numpy as np\n",
    "import matplotlib.pyplot as plt\n",
    "from StringKernel import StringKernel"
   ]
  },
  {
   "cell_type": "code",
   "execution_count": 3,
   "metadata": {
    "collapsed": true
   },
   "outputs": [],
   "source": [
    "import pandas as pd\n",
    "import nltk"
   ]
  },
  {
   "cell_type": "code",
   "execution_count": 21,
   "metadata": {
    "collapsed": false
   },
   "outputs": [],
   "source": [
    "data = pd.read_json('data/smaller_dataset.json')\n"
   ]
  },
  {
   "cell_type": "code",
   "execution_count": 40,
   "metadata": {
    "collapsed": false
   },
   "outputs": [],
   "source": [
    "authors_of_20 = data[data.groupby(by='reviewerID')['reviewerID'].transform(\"count\") == 20]\n",
    "authors = authors_of_20['reviewerID'].sample(2)"
   ]
  },
  {
   "cell_type": "code",
   "execution_count": 80,
   "metadata": {
    "collapsed": false
   },
   "outputs": [],
   "source": [
    "subset = authors_of_20[authors_of_20['reviewerID'].isin(authors)]\n",
    "X = subset['reviewText']\n",
    "Y = subset['reviewerID']\n",
    "X_train = X[0:20]\n",
    "Y_train = Y[0:20]\n",
    "X_test = X[20:]\n",
    "Y_test = Y[20:]"
   ]
  },
  {
   "cell_type": "code",
   "execution_count": 79,
   "metadata": {
    "collapsed": false
   },
   "outputs": [
    {
     "name": "stdout",
     "output_type": "stream",
     "text": [
      "0\n"
     ]
    }
   ],
   "source": [
    "vocab = set()\n",
    "for text in X:\n",
    "    for word in nltk.word_tokenize(text):\n",
    "        vocab.add(word)\n",
    "\n",
    "string_kernel = StringKernel().build_kernel(vocab)\n",
    "precomputed_gram_matrix = string_kernel(X_train.values,X_train.values)\n",
    "svm_instance = sklearn.svm.SVC(kernel=\"precomputed\")\n",
    "svm_instance.fit(precomputed_gram_matrix,Y_train)\n",
    "\n",
    "prediction = svm_instance.predict(string_kernel(X_test.values,X_test.values))\n",
    "print((prediction == Y_test).sum())"
   ]
  },
  {
   "cell_type": "code",
   "execution_count": 81,
   "metadata": {
    "collapsed": false
   },
   "outputs": [
    {
     "name": "stdout",
     "output_type": "stream",
     "text": [
      "9\n"
     ]
    }
   ],
   "source": [
    "print((prediction == Y_test).sum())"
   ]
  }
 ],
 "metadata": {
  "kernelspec": {
   "display_name": "Python [conda root]",
   "language": "python",
   "name": "conda-root-py"
  },
  "language_info": {
   "codemirror_mode": {
    "name": "ipython",
    "version": 3
   },
   "file_extension": ".py",
   "mimetype": "text/x-python",
   "name": "python",
   "nbconvert_exporter": "python",
   "pygments_lexer": "ipython3",
   "version": "3.5.4"
  }
 },
 "nbformat": 4,
 "nbformat_minor": 2
}
